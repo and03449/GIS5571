{
 "cells": [
  {
   "cell_type": "markdown",
   "metadata": {},
   "source": [
    "# NDAWN 30 Day Weather Report"
   ]
  },
  {
   "cell_type": "markdown",
   "metadata": {},
   "source": [
    "## Import Data"
   ]
  },
  {
   "cell_type": "markdown",
   "metadata": {},
   "source": [
    "### Importing Packages"
   ]
  },
  {
   "cell_type": "code",
   "execution_count": 100,
   "metadata": {},
   "outputs": [],
   "source": [
    "import requests\n",
    "import pandas as pd\n",
    "import os"
   ]
  },
  {
   "cell_type": "markdown",
   "metadata": {},
   "source": [
    "### Pulling in Weather Data"
   ]
  },
  {
   "cell_type": "code",
   "execution_count": 343,
   "metadata": {},
   "outputs": [],
   "source": [
    "ndawn_base = r'https://ndawn.ndsu.nodak.edu/table.csv?station=78&station=111&station=98&station=174&station=142&station=138&station=161&station=9&station=10&station=118&station=56&station=11&station=12&station=58&station=13&station=84&station=55&station=7&station=87&station=14&station=15&station=96&station=16&station=137&station=124&station=143&station=17&station=85&station=140&station=134&station=18&station=136&station=65&station=104&station=99&station=19&station=129&station=20&station=101&station=81&station=21&station=97&station=22&station=75&station=2&station=172&station=139&station=23&station=62&station=86&station=24&station=89&station=126&station=93&station=90&station=25&station=83&station=107&station=156&station=77&station=26&station=70&station=127&station=27&station=132&station=28&station=29&station=30&station=31&station=102&station=32&station=119&station=4&station=80&station=33&station=59&station=105&station=82&station=34&station=72&station=135&station=35&station=76&station=120&station=141&station=109&station=36&station=79&station=71&station=37&station=38&station=39&station=130&station=73&station=40&station=41&station=54&station=69&station=113&station=128&station=42&station=43&station=103&station=116&station=88&station=114&station=3&station=163&station=64&station=115&station=67&station=44&station=133&station=106&station=100&station=121&station=45&station=46&station=61&station=66&station=74&station=60&station=125&station=8&station=47&station=122&station=108&station=5&station=152&station=48&station=68&station=49&station=50&station=91&station=117&station=63&station=150&station=51&station=6&station=52&station=92&station=112&station=131&station=123&station=95&station=53&station=57&station=149&station=148&station=110&variable=ddmxt&variable=ddmnt&variable=ddavt&ttype=daily&quick_pick=30_d'"
   ]
  },
  {
   "cell_type": "code",
   "execution_count": 344,
   "metadata": {},
   "outputs": [],
   "source": [
    "rqst_objct = requests.get(ndawn_base)\n",
    "\n",
    "with open('AvgTemp_AllStations.csv', 'w') as newCSV_txt:\n",
    "    newCSV_txt.write(rqst_objct.content.decode('utf-8'))"
   ]
  },
  {
   "cell_type": "code",
   "execution_count": 345,
   "metadata": {},
   "outputs": [
    {
     "data": {
      "text/html": [
       "<div>\n",
       "<style scoped>\n",
       "    .dataframe tbody tr th:only-of-type {\n",
       "        vertical-align: middle;\n",
       "    }\n",
       "\n",
       "    .dataframe tbody tr th {\n",
       "        vertical-align: top;\n",
       "    }\n",
       "\n",
       "    .dataframe thead th {\n",
       "        text-align: right;\n",
       "    }\n",
       "</style>\n",
       "<table border=\"1\" class=\"dataframe\">\n",
       "  <thead>\n",
       "    <tr style=\"text-align: right;\">\n",
       "      <th></th>\n",
       "      <th>Station Name</th>\n",
       "      <th>Latitude</th>\n",
       "      <th>Longitude</th>\n",
       "      <th>Elevation</th>\n",
       "      <th>Year</th>\n",
       "      <th>Month</th>\n",
       "      <th>Day</th>\n",
       "      <th>Max Temp</th>\n",
       "      <th>Max Temp Flag</th>\n",
       "      <th>Min Temp</th>\n",
       "      <th>Min Temp Flag</th>\n",
       "      <th>Avg Temp</th>\n",
       "      <th>Avg Temp Flag</th>\n",
       "    </tr>\n",
       "  </thead>\n",
       "  <tbody>\n",
       "    <tr>\n",
       "      <th>0</th>\n",
       "      <td>NaN</td>\n",
       "      <td>deg</td>\n",
       "      <td>deg</td>\n",
       "      <td>ft</td>\n",
       "      <td>NaN</td>\n",
       "      <td>NaN</td>\n",
       "      <td>NaN</td>\n",
       "      <td>Degrees F</td>\n",
       "      <td>NaN</td>\n",
       "      <td>Degrees F</td>\n",
       "      <td>NaN</td>\n",
       "      <td>Degrees F</td>\n",
       "      <td>NaN</td>\n",
       "    </tr>\n",
       "    <tr>\n",
       "      <th>1</th>\n",
       "      <td>Ada</td>\n",
       "      <td>47.32119</td>\n",
       "      <td>-96.51406</td>\n",
       "      <td>910</td>\n",
       "      <td>2022.0</td>\n",
       "      <td>10.0</td>\n",
       "      <td>29.0</td>\n",
       "      <td>60.584</td>\n",
       "      <td>NaN</td>\n",
       "      <td>30.619</td>\n",
       "      <td>NaN</td>\n",
       "      <td>45.602</td>\n",
       "      <td>NaN</td>\n",
       "    </tr>\n",
       "    <tr>\n",
       "      <th>2</th>\n",
       "      <td>Ada</td>\n",
       "      <td>47.32119</td>\n",
       "      <td>-96.51406</td>\n",
       "      <td>910</td>\n",
       "      <td>2022.0</td>\n",
       "      <td>10.0</td>\n",
       "      <td>30.0</td>\n",
       "      <td>58.784</td>\n",
       "      <td>NaN</td>\n",
       "      <td>22.091</td>\n",
       "      <td>NaN</td>\n",
       "      <td>40.438</td>\n",
       "      <td>NaN</td>\n",
       "    </tr>\n",
       "    <tr>\n",
       "      <th>3</th>\n",
       "      <td>Ada</td>\n",
       "      <td>47.32119</td>\n",
       "      <td>-96.51406</td>\n",
       "      <td>910</td>\n",
       "      <td>2022.0</td>\n",
       "      <td>10.0</td>\n",
       "      <td>31.0</td>\n",
       "      <td>64.022</td>\n",
       "      <td>NaN</td>\n",
       "      <td>35.074</td>\n",
       "      <td>NaN</td>\n",
       "      <td>49.548</td>\n",
       "      <td>NaN</td>\n",
       "    </tr>\n",
       "    <tr>\n",
       "      <th>4</th>\n",
       "      <td>Ada</td>\n",
       "      <td>47.32119</td>\n",
       "      <td>-96.51406</td>\n",
       "      <td>910</td>\n",
       "      <td>2022.0</td>\n",
       "      <td>11.0</td>\n",
       "      <td>1.0</td>\n",
       "      <td>70.610</td>\n",
       "      <td>NaN</td>\n",
       "      <td>27.538</td>\n",
       "      <td>NaN</td>\n",
       "      <td>49.074</td>\n",
       "      <td>NaN</td>\n",
       "    </tr>\n",
       "    <tr>\n",
       "      <th>...</th>\n",
       "      <td>...</td>\n",
       "      <td>...</td>\n",
       "      <td>...</td>\n",
       "      <td>...</td>\n",
       "      <td>...</td>\n",
       "      <td>...</td>\n",
       "      <td>...</td>\n",
       "      <td>...</td>\n",
       "      <td>...</td>\n",
       "      <td>...</td>\n",
       "      <td>...</td>\n",
       "      <td>...</td>\n",
       "      <td>...</td>\n",
       "    </tr>\n",
       "    <tr>\n",
       "      <th>4226</th>\n",
       "      <td>Zeeland</td>\n",
       "      <td>46.01351</td>\n",
       "      <td>-99.68768</td>\n",
       "      <td>2070</td>\n",
       "      <td>2022.0</td>\n",
       "      <td>11.0</td>\n",
       "      <td>23.0</td>\n",
       "      <td>37.144</td>\n",
       "      <td>NaN</td>\n",
       "      <td>15.116</td>\n",
       "      <td>NaN</td>\n",
       "      <td>26.130</td>\n",
       "      <td>NaN</td>\n",
       "    </tr>\n",
       "    <tr>\n",
       "      <th>4227</th>\n",
       "      <td>Zeeland</td>\n",
       "      <td>46.01351</td>\n",
       "      <td>-99.68768</td>\n",
       "      <td>2070</td>\n",
       "      <td>2022.0</td>\n",
       "      <td>11.0</td>\n",
       "      <td>24.0</td>\n",
       "      <td>33.303</td>\n",
       "      <td>NaN</td>\n",
       "      <td>15.440</td>\n",
       "      <td>NaN</td>\n",
       "      <td>24.372</td>\n",
       "      <td>NaN</td>\n",
       "    </tr>\n",
       "    <tr>\n",
       "      <th>4228</th>\n",
       "      <td>Zeeland</td>\n",
       "      <td>46.01351</td>\n",
       "      <td>-99.68768</td>\n",
       "      <td>2070</td>\n",
       "      <td>2022.0</td>\n",
       "      <td>11.0</td>\n",
       "      <td>25.0</td>\n",
       "      <td>42.800</td>\n",
       "      <td>NaN</td>\n",
       "      <td>14.900</td>\n",
       "      <td>NaN</td>\n",
       "      <td>28.850</td>\n",
       "      <td>NaN</td>\n",
       "    </tr>\n",
       "    <tr>\n",
       "      <th>4229</th>\n",
       "      <td>Zeeland</td>\n",
       "      <td>46.01351</td>\n",
       "      <td>-99.68768</td>\n",
       "      <td>2070</td>\n",
       "      <td>2022.0</td>\n",
       "      <td>11.0</td>\n",
       "      <td>26.0</td>\n",
       "      <td>38.952</td>\n",
       "      <td>NaN</td>\n",
       "      <td>22.595</td>\n",
       "      <td>NaN</td>\n",
       "      <td>30.774</td>\n",
       "      <td>NaN</td>\n",
       "    </tr>\n",
       "    <tr>\n",
       "      <th>4230</th>\n",
       "      <td>Zeeland</td>\n",
       "      <td>46.01351</td>\n",
       "      <td>-99.68768</td>\n",
       "      <td>2070</td>\n",
       "      <td>2022.0</td>\n",
       "      <td>11.0</td>\n",
       "      <td>27.0</td>\n",
       "      <td>34.257</td>\n",
       "      <td>NaN</td>\n",
       "      <td>8.978</td>\n",
       "      <td>NaN</td>\n",
       "      <td>21.618</td>\n",
       "      <td>NaN</td>\n",
       "    </tr>\n",
       "  </tbody>\n",
       "</table>\n",
       "<p>4231 rows × 13 columns</p>\n",
       "</div>"
      ],
      "text/plain": [
       "     Station Name  Latitude  Longitude  ... Min Temp Flag   Avg Temp  Avg Temp Flag\n",
       "0             NaN       deg        deg  ...           NaN  Degrees F            NaN\n",
       "1             Ada  47.32119  -96.51406  ...           NaN     45.602            NaN\n",
       "2             Ada  47.32119  -96.51406  ...           NaN     40.438            NaN\n",
       "3             Ada  47.32119  -96.51406  ...           NaN     49.548            NaN\n",
       "4             Ada  47.32119  -96.51406  ...           NaN     49.074            NaN\n",
       "...           ...       ...        ...  ...           ...        ...            ...\n",
       "4226      Zeeland  46.01351  -99.68768  ...           NaN     26.130            NaN\n",
       "4227      Zeeland  46.01351  -99.68768  ...           NaN     24.372            NaN\n",
       "4228      Zeeland  46.01351  -99.68768  ...           NaN     28.850            NaN\n",
       "4229      Zeeland  46.01351  -99.68768  ...           NaN     30.774            NaN\n",
       "4230      Zeeland  46.01351  -99.68768  ...           NaN     21.618            NaN\n",
       "\n",
       "[4231 rows x 13 columns]"
      ]
     },
     "execution_count": 345,
     "metadata": {},
     "output_type": "execute_result"
    }
   ],
   "source": [
    "# reading the CSV and visually checking it looks right \n",
    "\n",
    "avg_temp_df = pd.read_csv('AvgTemp_AllStations.csv', skiprows = 5)\n",
    "avg_temp_df"
   ]
  },
  {
   "cell_type": "code",
   "execution_count": 346,
   "metadata": {},
   "outputs": [],
   "source": [
    "# Cleaning up the dataset by removing the top row and the columns with no values\n",
    "\n",
    "avg_temp = avg_temp_df.iloc[1:]\n",
    "base = avg_temp.drop(columns = ['Max Temp Flag', 'Min Temp Flag', 'Avg Temp Flag', 'Elevation', 'Year', 'Month', 'Day'])"
   ]
  },
  {
   "cell_type": "code",
   "execution_count": 347,
   "metadata": {},
   "outputs": [],
   "source": [
    "# group the data by station and find the max/min/avg temp\n",
    "\n",
    "min_temps = base.drop(columns = ['Max Temp', 'Avg Temp'])\n",
    "min_temps['Min Temp'] = min_temps['Min Temp'].astype(float)\n",
    "min_temps = min_temps.groupby(['Station Name']).min()\n",
    "\n",
    "max_temps = base.drop(columns = ['Min Temp', 'Avg Temp'])\n",
    "max_temps['Max Temp'] = max_temps['Max Temp'].astype(float)\n",
    "max_temps = max_temps.groupby(['Station Name']).max()\n",
    "\n",
    "avg_temps = base.drop(columns = ['Min Temp', 'Max Temp'])\n",
    "avg_temps['Avg Temp'] = avg_temps['Avg Temp'].astype(float)\n",
    "avg_temps = avg_temps.groupby(['Station Name']).mean()"
   ]
  },
  {
   "cell_type": "code",
   "execution_count": 348,
   "metadata": {},
   "outputs": [
    {
     "data": {
      "text/html": [
       "<div>\n",
       "<style scoped>\n",
       "    .dataframe tbody tr th:only-of-type {\n",
       "        vertical-align: middle;\n",
       "    }\n",
       "\n",
       "    .dataframe tbody tr th {\n",
       "        vertical-align: top;\n",
       "    }\n",
       "\n",
       "    .dataframe thead th {\n",
       "        text-align: right;\n",
       "    }\n",
       "</style>\n",
       "<table border=\"1\" class=\"dataframe\">\n",
       "  <thead>\n",
       "    <tr style=\"text-align: right;\">\n",
       "      <th></th>\n",
       "      <th>Latitude</th>\n",
       "      <th>Longitude</th>\n",
       "      <th>Min Temp</th>\n",
       "      <th>Max Temp</th>\n",
       "      <th>Avg Temp</th>\n",
       "    </tr>\n",
       "    <tr>\n",
       "      <th>Station Name</th>\n",
       "      <th></th>\n",
       "      <th></th>\n",
       "      <th></th>\n",
       "      <th></th>\n",
       "      <th></th>\n",
       "    </tr>\n",
       "  </thead>\n",
       "  <tbody>\n",
       "    <tr>\n",
       "      <th>Ada</th>\n",
       "      <td>47.32119</td>\n",
       "      <td>-96.51406</td>\n",
       "      <td>2.534</td>\n",
       "      <td>70.610</td>\n",
       "      <td>28.875800</td>\n",
       "    </tr>\n",
       "    <tr>\n",
       "      <th>Adams</th>\n",
       "      <td>48.49988</td>\n",
       "      <td>-98.07588</td>\n",
       "      <td>-2.740</td>\n",
       "      <td>67.280</td>\n",
       "      <td>24.684367</td>\n",
       "    </tr>\n",
       "    <tr>\n",
       "      <th>Alamo</th>\n",
       "      <td>48.54652</td>\n",
       "      <td>-103.47186</td>\n",
       "      <td>-12.982</td>\n",
       "      <td>63.842</td>\n",
       "      <td>22.120733</td>\n",
       "    </tr>\n",
       "    <tr>\n",
       "      <th>Alvarado</th>\n",
       "      <td>48.245942</td>\n",
       "      <td>-97.021532</td>\n",
       "      <td>0.302</td>\n",
       "      <td>68.918</td>\n",
       "      <td>27.125367</td>\n",
       "    </tr>\n",
       "    <tr>\n",
       "      <th>Amidon</th>\n",
       "      <td>46.48844</td>\n",
       "      <td>-103.31629</td>\n",
       "      <td>-16.006</td>\n",
       "      <td>72.230</td>\n",
       "      <td>26.382900</td>\n",
       "    </tr>\n",
       "    <tr>\n",
       "      <th>...</th>\n",
       "      <td>...</td>\n",
       "      <td>...</td>\n",
       "      <td>...</td>\n",
       "      <td>...</td>\n",
       "      <td>...</td>\n",
       "    </tr>\n",
       "    <tr>\n",
       "      <th>Williston</th>\n",
       "      <td>48.13308</td>\n",
       "      <td>-103.73859</td>\n",
       "      <td>-8.338</td>\n",
       "      <td>65.876</td>\n",
       "      <td>24.412900</td>\n",
       "    </tr>\n",
       "    <tr>\n",
       "      <th>Wishek</th>\n",
       "      <td>46.26033</td>\n",
       "      <td>-99.66585</td>\n",
       "      <td>-5.368</td>\n",
       "      <td>74.408</td>\n",
       "      <td>26.459600</td>\n",
       "    </tr>\n",
       "    <tr>\n",
       "      <th>Wolford</th>\n",
       "      <td>48.51603</td>\n",
       "      <td>-99.62441</td>\n",
       "      <td>-6.772</td>\n",
       "      <td>70.250</td>\n",
       "      <td>23.559967</td>\n",
       "    </tr>\n",
       "    <tr>\n",
       "      <th>Wolverton</th>\n",
       "      <td>46.56545</td>\n",
       "      <td>-96.68726</td>\n",
       "      <td>2.516</td>\n",
       "      <td>72.680</td>\n",
       "      <td>29.472200</td>\n",
       "    </tr>\n",
       "    <tr>\n",
       "      <th>Zeeland</th>\n",
       "      <td>46.01351</td>\n",
       "      <td>-99.68768</td>\n",
       "      <td>-10.840</td>\n",
       "      <td>76.208</td>\n",
       "      <td>24.830167</td>\n",
       "    </tr>\n",
       "  </tbody>\n",
       "</table>\n",
       "<p>141 rows × 5 columns</p>\n",
       "</div>"
      ],
      "text/plain": [
       "               Latitude   Longitude  Min Temp  Max Temp   Avg Temp\n",
       "Station Name                                                      \n",
       "Ada            47.32119   -96.51406     2.534    70.610  28.875800\n",
       "Adams          48.49988   -98.07588    -2.740    67.280  24.684367\n",
       "Alamo          48.54652  -103.47186   -12.982    63.842  22.120733\n",
       "Alvarado      48.245942  -97.021532     0.302    68.918  27.125367\n",
       "Amidon         46.48844  -103.31629   -16.006    72.230  26.382900\n",
       "...                 ...         ...       ...       ...        ...\n",
       "Williston      48.13308  -103.73859    -8.338    65.876  24.412900\n",
       "Wishek         46.26033   -99.66585    -5.368    74.408  26.459600\n",
       "Wolford        48.51603   -99.62441    -6.772    70.250  23.559967\n",
       "Wolverton      46.56545   -96.68726     2.516    72.680  29.472200\n",
       "Zeeland        46.01351   -99.68768   -10.840    76.208  24.830167\n",
       "\n",
       "[141 rows x 5 columns]"
      ]
     },
     "execution_count": 348,
     "metadata": {},
     "output_type": "execute_result"
    }
   ],
   "source": [
    "min_max = min_temps.merge(max_temps, how='inner', on=('Station Name'))\n",
    "min_max = min_max.merge(avg_temps, how='inner', on=('Station Name'))\n",
    "min_max = min_max.drop(columns = ['Latitude_y', 'Longitude_y'])\n",
    "min_max = min_max.rename(columns = {'Latitude_x':'Latitude', 'Longitude_x':'Longitude'})\n",
    "\n",
    "min_max\n",
    "\n",
    "# https://pandas.pydata.org/docs/reference/api/pandas.DataFrame.merge.html"
   ]
  },
  {
   "cell_type": "code",
   "execution_count": 338,
   "metadata": {},
   "outputs": [],
   "source": [
    "min_max.to_csv('min_max_avg.csv', index=False)"
   ]
  },
  {
   "cell_type": "code",
   "execution_count": 328,
   "metadata": {},
   "outputs": [],
   "source": [
    "station_name_base = base.drop(columns = ['Max Temp', 'Min Temp', 'Avg Temp'])\n",
    "station_name_base.to_csv('station_name_base.csv', index=False)"
   ]
  },
  {
   "cell_type": "code",
   "execution_count": null,
   "metadata": {},
   "outputs": [],
   "source": [
    "# joining the 2 datasets together\n",
    "\n",
    "arcpy.management.AddJoin(\"min_max_avg.csv\", \"Latitude\", \"station_name_base.csv\", \"Latitude\", \"KEEP_ALL\", \"NO_INDEX_JOIN_FIELDS\")"
   ]
  },
  {
   "cell_type": "code",
   "execution_count": null,
   "metadata": {},
   "outputs": [],
   "source": [
    "arcpy.conversion.TableToTable(\"min_max_avg.csv\", r\"C:\\Users\\tande\\Documents\\ArcGIS\\Projects\\GIS5571_Lab3Part2\\GIS5571_Lab3Part2.gdb\", \"full_dataset\", '', 'Latitude \"Latitude\" true true false 8 Double 0 0,First,#,min_max_avg.csv,min_max_avg.csv.Latitude,-1,-1;Longitude \"Longitude\" true true false 8 Double 0 0,First,#,min_max_avg.csv,min_max_avg.csv.Longitude,-1,-1;Min Temp \"Min Temp\" true true false 8 Double 0 0,First,#,min_max_avg.csv,min_max_avg.csv.Min Temp,-1,-1;Max Temp \"Max Temp\" true true false 8 Double 0 0,First,#,min_max_avg.csv,min_max_avg.csv.Max Temp,-1,-1;Avg Temp \"Avg Temp\" true true false 8 Double 0 0,First,#,min_max_avg.csv,min_max_avg.csv.Avg Temp,-1,-1;Station Name \"Station Name\" true true false 8000 Text 0 0,First,#,min_max_avg.csv,min_max_avg.csv.Station Name,0,8000;Station Name \"Station Name\" true true false 8000 Text 0 0,First,#,min_max_avg.csv,station_name_base.csv.Station Name,0,8000;Latitude \"Latitude\" true true false 8 Double 0 0,First,#,min_max_avg.csv,station_name_base.csv.Latitude,-1,-1;Longitude \"Longitude\" true true false 8 Double 0 0,First,#,min_max_avg.csv,station_name_base.csv.Longitude,-1,-1', '')"
   ]
  },
  {
   "cell_type": "code",
   "execution_count": null,
   "metadata": {},
   "outputs": [],
   "source": [
    "# cleaned up the dataset to remove duplicate columns (lat, long, station name)"
   ]
  },
  {
   "cell_type": "markdown",
   "metadata": {},
   "source": [
    "## Plotting all Weather Station Locations for Visual Confirmation"
   ]
  },
  {
   "cell_type": "code",
   "execution_count": 215,
   "metadata": {},
   "outputs": [
    {
     "data": {
      "text/html": [
       "<div class='gpresult'><h2>Messages</h2><div id='messages' data-messages='[\"Start Time: Monday, November 28, 2022 4:39:11 PM\",\"Succeeded at Monday, November 28, 2022 4:39:12 PM (Elapsed Time: 1.28 seconds)\"]' data-show='true'><div id = 'default' /></div></div>"
      ],
      "text/plain": [
       "<Result 'C:\\\\Users\\\\tande\\\\Documents\\\\ArcGIS\\\\Projects\\\\GIS5571_Lab3Part2\\\\GIS5571_Lab3Part2.gdb\\\\min_max_XYTableToPoint'>"
      ]
     },
     "execution_count": 215,
     "metadata": {},
     "output_type": "execute_result"
    }
   ],
   "source": [
    "# Converting lat/long to XY coords\n",
    "\n",
    "arcpy.management.XYTableToPoint(\"full_dataset\", r\"C:\\Users\\tande\\Documents\\ArcGIS\\Projects\\GIS5571_Lab3Part2\\GIS5571_Lab3Part2.gdb\\full_dataset_XYTableToPoint\", \"Longitude\", \"Latitude\", None, 'GEOGCS[\"GCS_WGS_1984\",DATUM[\"D_WGS_1984\",SPHEROID[\"WGS_1984\",6378137.0,298.257223563]],PRIMEM[\"Greenwich\",0.0],UNIT[\"Degree\",0.0174532925199433]];-400 -400 1000000000;-100000 10000;-100000 10000;8.98315284119521E-09;0.001;0.001;IsHighPrecision')"
   ]
  },
  {
   "cell_type": "markdown",
   "metadata": {},
   "source": [
    "## IDW"
   ]
  },
  {
   "cell_type": "markdown",
   "metadata": {},
   "source": [
    "### Average Temps"
   ]
  },
  {
   "cell_type": "code",
   "execution_count": null,
   "metadata": {},
   "outputs": [],
   "source": [
    "# Power 10\n",
    "\n",
    "arcpy.ga.IDW(\"full_dataset_XYTableToPoint\", \"Avg_Temp\", \"idw_output_avg_power10\", None, 0.0144790399999999, 10, \"NBRTYPE=Standard S_MAJOR=2.89308477429477 S_MINOR=2.89308477429477 ANGLE=0 NBR_MAX=15 NBR_MIN=10 SECTOR_TYPE=ONE_SECTOR\", \"Avg_Temp\")\n",
    "\n",
    "# Power 5\n",
    "\n",
    "arcpy.ga.IDW(\"full_dataset_XYTableToPoint\", \"Avg_Temp\", \"idw_output_avg_power5\", None, 0.0144790399999999, 5, \"NBRTYPE=Standard S_MAJOR=2.89308477429477 S_MINOR=2.89308477429477 ANGLE=0 NBR_MAX=15 NBR_MIN=10 SECTOR_TYPE=ONE_SECTOR\", \"Avg_Temp\")\n",
    "\n",
    "# Power 2\n",
    "\n",
    "arcpy.ga.IDW(\"full_dataset_XYTableToPoint\", \"Avg_Temp\", \"idw_output_avg_power2\", None, 0.0144790399999999, 2, \"NBRTYPE=Standard S_MAJOR=2.89308477429477 S_MINOR=2.89308477429477 ANGLE=0 NBR_MAX=15 NBR_MIN=10 SECTOR_TYPE=ONE_SECTOR\", \"Avg_Temp\")"
   ]
  },
  {
   "cell_type": "markdown",
   "metadata": {},
   "source": [
    "### Max Temps"
   ]
  },
  {
   "cell_type": "code",
   "execution_count": null,
   "metadata": {},
   "outputs": [],
   "source": [
    "# Power 10\n",
    "\n",
    "arcpy.ga.IDW(\"full_dataset_XYTableToPoint\", \"Max_Temp\", \"idw_output_max_power10\", None, 0.0144790399999999, 10, \"NBRTYPE=Standard S_MAJOR=2.89308477429477 S_MINOR=2.89308477429477 ANGLE=0 NBR_MAX=15 NBR_MIN=10 SECTOR_TYPE=ONE_SECTOR\", \"Max_Temp\")\n",
    "\n",
    "# Power 5\n",
    "\n",
    "arcpy.ga.IDW(\"full_dataset_XYTableToPoint\", \"Max_Temp\", \"idw_output_max_power5\", None, 0.0144790399999999, 5, \"NBRTYPE=Standard S_MAJOR=2.89308477429477 S_MINOR=2.89308477429477 ANGLE=0 NBR_MAX=15 NBR_MIN=10 SECTOR_TYPE=ONE_SECTOR\", \"Max_Temp\")\n",
    "\n",
    "# Power 2\n",
    "\n",
    "arcpy.ga.IDW(\"full_dataset_XYTableToPoint\", \"Max_Temp\", \"idw_output_max_power2\", None, 0.0144790399999999, 2, \"NBRTYPE=Standard S_MAJOR=2.89308477429477 S_MINOR=2.89308477429477 ANGLE=0 NBR_MAX=15 NBR_MIN=10 SECTOR_TYPE=ONE_SECTOR\", \"Max_Temp\")"
   ]
  },
  {
   "cell_type": "markdown",
   "metadata": {},
   "source": [
    "### Min Temps"
   ]
  },
  {
   "cell_type": "code",
   "execution_count": null,
   "metadata": {},
   "outputs": [],
   "source": [
    "# Cannot have negative values to calculate IDW\n",
    "\n",
    "# Finding the absolute value of the min temps to eliminate negative values\n",
    "\n",
    "arcpy.management.CalculateField(\"full_dataset_XYTableToPoint\", \"New Zero\", \"Abs($feature.Min_Temp)\", \"ARCADE\", '', \"FLOAT\", \"NO_ENFORCE_DOMAINS\")\n",
    "\n",
    "# Finding the inverse of the absolute values so they are more\n",
    "\n",
    "arcpy.management.CalculateField(\"full_dataset_XYTableToPoint\", \"MinTempZero\", \"1 / $feature.MinTempZero\", \"ARCADE\", '', \"TEXT\", \"NO_ENFORCE_DOMAINS\")\n",
    "\n",
    "# Power 10\n",
    "\n",
    "arcpy.ga.IDW(\"full_dataset_XYTableToPoint\", \"MinTempZero\", \"idw_output_min_power10\", None, 0.0144790399999999, 10, \"NBRTYPE=Standard S_MAJOR=2.89308477429477 S_MINOR=2.89308477429477 ANGLE=0 NBR_MAX=15 NBR_MIN=10 SECTOR_TYPE=ONE_SECTOR\", \"MinTempZero\")\n",
    "\n",
    "# Power 5\n",
    "\n",
    "arcpy.ga.IDW(\"full_dataset_XYTableToPoint\", \"MinTempZero\", \"idw_output_min_power5\", None, 0.0144790399999999, 5, \"NBRTYPE=Standard S_MAJOR=2.89308477429477 S_MINOR=2.89308477429477 ANGLE=0 NBR_MAX=15 NBR_MIN=10 SECTOR_TYPE=ONE_SECTOR\", \"MinTempZero\")\n",
    "\n",
    "# Power 2\n",
    "\n",
    "arcpy.ga.IDW(\"full_dataset_XYTableToPoint\", \"MinTempZero\", \"idw_output_min_power2\", None, 0.0144790399999999, 2, \"NBRTYPE=Standard S_MAJOR=2.89308477429477 S_MINOR=2.89308477429477 ANGLE=0 NBR_MAX=15 NBR_MIN=10 SECTOR_TYPE=ONE_SECTOR\", \"MinTempZero\")"
   ]
  },
  {
   "cell_type": "markdown",
   "metadata": {},
   "source": [
    "## Kriging - Empirical Bayesian Kriging"
   ]
  },
  {
   "cell_type": "markdown",
   "metadata": {},
   "source": [
    "### Average Temps"
   ]
  },
  {
   "cell_type": "code",
   "execution_count": null,
   "metadata": {},
   "outputs": [],
   "source": [
    "# Power \n",
    "\n",
    "arcpy.ga.EmpiricalBayesianKriging(\"full_dataset_XYTableToPoint\", \"Avg_Temp\", \"Kriging_emp_avg_power\", None, 0.0144790399999999, \"NONE\", 100, 1, 100, \"NBRTYPE=StandardCircular RADIUS=2.89308477429477 ANGLE=0 NBR_MAX=15 NBR_MIN=10 SECTOR_TYPE=ONE_SECTOR\", \"PREDICTION\", 0.5, \"EXCEED\", None, \"POWER\")\n",
    "\n",
    "# Linear\n",
    "\n",
    "arcpy.ga.EmpiricalBayesianKriging(\"full_dataset_XYTableToPoint\", \"Avg_Temp\", \"Kriging_emp_avg_linear\", None, 0.0144790399999999, \"NONE\", 100, 1, 100, \"NBRTYPE=StandardCircular RADIUS=2.89308477429477 ANGLE=0 NBR_MAX=15 NBR_MIN=10 SECTOR_TYPE=ONE_SECTOR\", \"PREDICTION\", 0.5, \"EXCEED\", None, \"LINEAR\")\n",
    "\n",
    "# Spline\n",
    "\n",
    "arcpy.ga.EmpiricalBayesianKriging(\"full_dataset_XYTableToPoint\", \"Avg_Temp\", \"Kriging_emp_avg_spline\", None, 0.0144790399999999, \"NONE\", 100, 1, 100, \"NBRTYPE=StandardCircular RADIUS=2.89308477429477 ANGLE=0 NBR_MAX=15 NBR_MIN=10 SECTOR_TYPE=ONE_SECTOR\", \"PREDICTION\", 0.5, \"EXCEED\", None, \"THIN_PLATE_SPLINE\")"
   ]
  },
  {
   "cell_type": "markdown",
   "metadata": {},
   "source": [
    "### Min Temps"
   ]
  },
  {
   "cell_type": "code",
   "execution_count": null,
   "metadata": {},
   "outputs": [],
   "source": [
    "# Power\n",
    "\n",
    "arcpy.ga.EmpiricalBayesianKriging(\"full_dataset_XYTableToPoint\", \"Min_Temp\", \"Kriging_emp_min_power\", None, 0.0144790399999999, \"NONE\", 100, 1, 100, \"NBRTYPE=StandardCircular RADIUS=2.89308477429477 ANGLE=0 NBR_MAX=15 NBR_MIN=10 SECTOR_TYPE=ONE_SECTOR\", \"PREDICTION\", 0.5, \"EXCEED\", None, \"POWER\")\n",
    "\n",
    "# Linear\n",
    "\n",
    "arcpy.ga.EmpiricalBayesianKriging(\"full_dataset_XYTableToPoint\", \"Min_Temp\", \"Kriging_emp_min_linear\", None, 0.0144790399999999, \"NONE\", 100, 1, 100, \"NBRTYPE=StandardCircular RADIUS=2.89308477429477 ANGLE=0 NBR_MAX=15 NBR_MIN=10 SECTOR_TYPE=ONE_SECTOR\", \"PREDICTION\", 0.5, \"EXCEED\", None, \"LINEAR\")\n",
    "\n",
    "# Spline\n",
    "\n",
    "arcpy.ga.EmpiricalBayesianKriging(\"full_dataset_XYTableToPoint\", \"Min_Temp\", \"Kriging_emp_min_spline\", None, 0.0144790399999999, \"NONE\", 100, 1, 100, \"NBRTYPE=StandardCircular RADIUS=2.89308477429477 ANGLE=0 NBR_MAX=15 NBR_MIN=10 SECTOR_TYPE=ONE_SECTOR\", \"PREDICTION\", 0.5, \"EXCEED\", None, \"THIN_PLATE_SPLINE\")"
   ]
  },
  {
   "cell_type": "markdown",
   "metadata": {},
   "source": [
    "### Max Temps"
   ]
  },
  {
   "cell_type": "code",
   "execution_count": null,
   "metadata": {},
   "outputs": [],
   "source": [
    "# Power\n",
    "\n",
    "arcpy.ga.EmpiricalBayesianKriging(\"full_dataset_XYTableToPoint\", \"Max_Temp\", \"Kriging_emp_max_power\", None, 0.0144790399999999, \"NONE\", 100, 1, 100, \"NBRTYPE=StandardCircular RADIUS=2.89308477429477 ANGLE=0 NBR_MAX=15 NBR_MIN=10 SECTOR_TYPE=ONE_SECTOR\", \"PREDICTION\", 0.5, \"EXCEED\", None, \"POWER\")\n",
    "\n",
    "# Linear\n",
    "\n",
    "arcpy.ga.EmpiricalBayesianKriging(\"full_dataset_XYTableToPoint\", \"Max_Temp\", \"Kriging_emp_max_linear\", None, 0.0144790399999999, \"NONE\", 100, 1, 100, \"NBRTYPE=StandardCircular RADIUS=2.89308477429477 ANGLE=0 NBR_MAX=15 NBR_MIN=10 SECTOR_TYPE=ONE_SECTOR\", \"PREDICTION\", 0.5, \"EXCEED\", None, \"LINEAR\")\n",
    "\n",
    "# Spline\n",
    "\n",
    "arcpy.ga.EmpiricalBayesianKriging(\"full_dataset_XYTableToPoint\", \"Max_Temp\", \"Kriging_emp_max_spline\", None, 0.0144790399999999, \"NONE\", 100, 1, 100, \"NBRTYPE=StandardCircular RADIUS=2.89308477429477 ANGLE=0 NBR_MAX=15 NBR_MIN=10 SECTOR_TYPE=ONE_SECTOR\", \"PREDICTION\", 0.5, \"EXCEED\", None, \"THIN_PLATE_SPLINE\")"
   ]
  },
  {
   "cell_type": "markdown",
   "metadata": {},
   "source": [
    "## Local Polynomial Interpolation"
   ]
  },
  {
   "cell_type": "markdown",
   "metadata": {},
   "source": [
    "### Average Temps"
   ]
  },
  {
   "cell_type": "code",
   "execution_count": null,
   "metadata": {},
   "outputs": [],
   "source": [
    "# Exponential\n",
    "\n",
    "arcpy.ga.LocalPolynomialInterpolation(\"full_dataset_XYTableToPoint\", \"Avg_Temp\", \"LPI_avg_order1_epx\", None, 0.0144790399999999, 1, \"NBRTYPE=Standard S_MAJOR=2.89308477429477 S_MINOR=2.89308477429477 ANGLE=0 NBR_MAX=15 NBR_MIN=10 SECTOR_TYPE=ONE_SECTOR\", \"EXPONENTIAL\", None, \"NO_USE_CONDITION_NUMBER\", None, None, \"PREDICTION\")\n",
    "\n",
    "# Gaussian\n",
    "\n",
    "arcpy.ga.LocalPolynomialInterpolation(\"full_dataset_XYTableToPoint\", \"Avg_Temp\", \"LPI_avg_order1_gaus\", None, 0.0144790399999999, 1, \"NBRTYPE=Standard S_MAJOR=2.89308477429477 S_MINOR=2.89308477429477 ANGLE=0 NBR_MAX=15 NBR_MIN=10 SECTOR_TYPE=ONE_SECTOR\", \"GAUSSIAN\", None, \"NO_USE_CONDITION_NUMBER\", None, None, \"PREDICTION\")\n",
    "\n",
    "# Quartic\n",
    "\n",
    "arcpy.ga.LocalPolynomialInterpolation(\"full_dataset_XYTableToPoint\", \"Avg_Temp\", \"LPI_avg_order1_quar\", None, 0.0144790399999999, 1, \"NBRTYPE=Standard S_MAJOR=2.89308477429477 S_MINOR=2.89308477429477 ANGLE=0 NBR_MAX=15 NBR_MIN=10 SECTOR_TYPE=ONE_SECTOR\", \"QUARTIC\", None, \"NO_USE_CONDITION_NUMBER\", None, None, \"PREDICTION\")\n",
    "\n",
    "# Epan\n",
    "\n",
    "arcpy.ga.LocalPolynomialInterpolation(\"full_dataset_XYTableToPoint\", \"Avg_Temp\", \"LPI_avg_order1_epan\", None, 0.0144790399999999, 1, \"NBRTYPE=Standard S_MAJOR=2.89308477429477 S_MINOR=2.89308477429477 ANGLE=0 NBR_MAX=15 NBR_MIN=10 SECTOR_TYPE=ONE_SECTOR\", \"EPANECHNIKOV\", None, \"NO_USE_CONDITION_NUMBER\", None, None, \"PREDICTION\")\n",
    "\n",
    "# Fifth-order polynomial\n",
    "\n",
    "arcpy.ga.LocalPolynomialInterpolation(\"full_dataset_XYTableToPoint\", \"Avg_Temp\", \"LPI_avg_order1_fifth\", None, 0.0144790399999999, 1, \"NBRTYPE=Standard S_MAJOR=2.89308477429477 S_MINOR=2.89308477429477 ANGLE=0 NBR_MAX=15 NBR_MIN=10 SECTOR_TYPE=ONE_SECTOR\", \"POLYNOMIAL5\", None, \"NO_USE_CONDITION_NUMBER\", None, None, \"PREDICTION\")\n",
    "\n",
    "# Constant\n",
    "\n",
    "arcpy.ga.LocalPolynomialInterpolation(\"full_dataset_XYTableToPoint\", \"Avg_Temp\", \"LPI_avg_order1_constant\", None, 0.0144790399999999, 1, \"NBRTYPE=Standard S_MAJOR=2.89308477429477 S_MINOR=2.89308477429477 ANGLE=0 NBR_MAX=15 NBR_MIN=10 SECTOR_TYPE=ONE_SECTOR\", \"CONSTANT\", None, \"NO_USE_CONDITION_NUMBER\", None, None, \"PREDICTION\")"
   ]
  },
  {
   "cell_type": "markdown",
   "metadata": {},
   "source": [
    "### Min Temps"
   ]
  },
  {
   "cell_type": "code",
   "execution_count": null,
   "metadata": {},
   "outputs": [],
   "source": [
    "# Quartic\n",
    "\n",
    "arcpy.ga.LocalPolynomialInterpolation(\"full_dataset_XYTableToPoint\", \"Min_Temp\", \"LPI_min_order4_quar\", None, 0.0144790399999999, 2, \"NBRTYPE=Standard S_MAJOR=2.89308477429477 S_MINOR=2.89308477429477 ANGLE=0 NBR_MAX=15 NBR_MIN=10 SECTOR_TYPE=ONE_SECTOR\", \"QUARTIC\", None, \"NO_USE_CONDITION_NUMBER\", None, None, \"PREDICTION\")\n",
    "\n",
    "# Exponential\n",
    "\n",
    "arcpy.ga.LocalPolynomialInterpolation(\"full_dataset_XYTableToPoint\", \"Min_Temp\", \"LPI_min_order1_exp\", None, 0.0144790399999999, 2, \"NBRTYPE=Standard S_MAJOR=2.89308477429477 S_MINOR=2.89308477429477 ANGLE=0 NBR_MAX=15 NBR_MIN=10 SECTOR_TYPE=ONE_SECTOR\", \"EXPONENTIAL\", None, \"NO_USE_CONDITION_NUMBER\", None, None, \"PREDICTION\")\n",
    "\n",
    "# Gaussian\n",
    "\n",
    "arcpy.ga.LocalPolynomialInterpolation(\"full_dataset_XYTableToPoint\", \"Min_Temp\", \"LPI_min_order1_gaus\", None, 0.0144790399999999, 2, \"NBRTYPE=Standard S_MAJOR=2.89308477429477 S_MINOR=2.89308477429477 ANGLE=0 NBR_MAX=15 NBR_MIN=10 SECTOR_TYPE=ONE_SECTOR\", \"GAUSSIAN\", None, \"NO_USE_CONDITION_NUMBER\", None, None, \"PREDICTION\")\n",
    "\n",
    "# Epan\n",
    "\n",
    "arcpy.ga.LocalPolynomialInterpolation(\"full_dataset_XYTableToPoint\", \"Min_Temp\", \"LPI_min_order1_epan\", None, 0.0144790399999999, 2, \"NBRTYPE=Standard S_MAJOR=2.89308477429477 S_MINOR=2.89308477429477 ANGLE=0 NBR_MAX=15 NBR_MIN=10 SECTOR_TYPE=ONE_SECTOR\", \"EPANECHNIKOV\", None, \"NO_USE_CONDITION_NUMBER\", None, None, \"PREDICTION\")\n",
    "\n",
    "# Fifth-order polynomial\n",
    "\n",
    "arcpy.ga.LocalPolynomialInterpolation(\"full_dataset_XYTableToPoint\", \"Min_Temp\", \"LPI_min_order1_fifth\", None, 0.0144790399999999, 2, \"NBRTYPE=Standard S_MAJOR=2.89308477429477 S_MINOR=2.89308477429477 ANGLE=0 NBR_MAX=15 NBR_MIN=10 SECTOR_TYPE=ONE_SECTOR\", \"POLYNOMIAL5\", None, \"NO_USE_CONDITION_NUMBER\", None, None, \"PREDICTION\")\n",
    "\n",
    "# Constant\n",
    "\n",
    "arcpy.ga.LocalPolynomialInterpolation(\"full_dataset_XYTableToPoint\", \"Min_Temp\", \"LPI_min_order1_constant\", None, 0.0144790399999999, 2, \"NBRTYPE=Standard S_MAJOR=2.89308477429477 S_MINOR=2.89308477429477 ANGLE=0 NBR_MAX=15 NBR_MIN=10 SECTOR_TYPE=ONE_SECTOR\", \"CONSTANT\", None, \"NO_USE_CONDITION_NUMBER\", None, None, \"PREDICTION\")"
   ]
  },
  {
   "cell_type": "markdown",
   "metadata": {},
   "source": [
    "### Max Temps"
   ]
  },
  {
   "cell_type": "code",
   "execution_count": null,
   "metadata": {},
   "outputs": [],
   "source": [
    "# Constant\n",
    "\n",
    "arcpy.ga.LocalPolynomialInterpolation(\"full_dataset_XYTableToPoint\", \"Max_Temp\", \"LPI_max_order1_constant\", None, 0.0144790399999999, 2, \"NBRTYPE=Standard S_MAJOR=2.89308477429477 S_MINOR=2.89308477429477 ANGLE=0 NBR_MAX=15 NBR_MIN=10 SECTOR_TYPE=ONE_SECTOR\", \"CONSTANT\", None, \"NO_USE_CONDITION_NUMBER\", None, None, \"PREDICTION\")\n",
    "\n",
    "# Exponential\n",
    "\n",
    "arcpy.ga.LocalPolynomialInterpolation(\"full_dataset_XYTableToPoint\", \"Max_Temp\", \"LPI_max_order1_exp\", None, 0.0144790399999999, 2, \"NBRTYPE=Standard S_MAJOR=2.89308477429477 S_MINOR=2.89308477429477 ANGLE=0 NBR_MAX=15 NBR_MIN=10 SECTOR_TYPE=ONE_SECTOR\", \"EXPONENTIAL\", None, \"NO_USE_CONDITION_NUMBER\", None, None, \"PREDICTION\")\n",
    "\n",
    "# Gaussian\n",
    "\n",
    "arcpy.ga.LocalPolynomialInterpolation(\"full_dataset_XYTableToPoint\", \"Max_Temp\", \"LPI_max_order1_gaus\", None, 0.0144790399999999, 2, \"NBRTYPE=Standard S_MAJOR=2.89308477429477 S_MINOR=2.89308477429477 ANGLE=0 NBR_MAX=15 NBR_MIN=10 SECTOR_TYPE=ONE_SECTOR\", \"GAUSSIAN\", None, \"NO_USE_CONDITION_NUMBER\", None, None, \"PREDICTION\")\n",
    "\n",
    "# Quartic\n",
    "\n",
    "arcpy.ga.LocalPolynomialInterpolation(\"full_dataset_XYTableToPoint\", \"Max_Temp\", \"LPI_max_order1_quar\", None, 0.0144790399999999, 2, \"NBRTYPE=Standard S_MAJOR=2.89308477429477 S_MINOR=2.89308477429477 ANGLE=0 NBR_MAX=15 NBR_MIN=10 SECTOR_TYPE=ONE_SECTOR\", \"QUARTIC\", None, \"NO_USE_CONDITION_NUMBER\", None, None, \"PREDICTION\")\n",
    "\n",
    "# Epan\n",
    "\n",
    "arcpy.ga.LocalPolynomialInterpolation(\"full_dataset_XYTableToPoint\", \"Max_Temp\", \"LPI_max_order1_epan\", None, 0.0144790399999999, 2, \"NBRTYPE=Standard S_MAJOR=2.89308477429477 S_MINOR=2.89308477429477 ANGLE=0 NBR_MAX=15 NBR_MIN=10 SECTOR_TYPE=ONE_SECTOR\", \"EPANECHNIKOV\", None, \"NO_USE_CONDITION_NUMBER\", None, None, \"PREDICTION\")\n",
    "\n",
    "# Fifth-order polynomial\n",
    "\n",
    "arcpy.ga.LocalPolynomialInterpolation(\"full_dataset_XYTableToPoint\", \"Max_Temp\", \"LPI_max_order1_epan\", None, 0.0144790399999999, 2, \"NBRTYPE=Standard S_MAJOR=2.89308477429477 S_MINOR=2.89308477429477 ANGLE=0 NBR_MAX=15 NBR_MIN=10 SECTOR_TYPE=ONE_SECTOR\", \"POLYNOMIAL5\", None, \"NO_USE_CONDITION_NUMBER\", None, None, \"PREDICTION\")\n"
   ]
  },
  {
   "cell_type": "markdown",
   "metadata": {},
   "source": [
    "## Hot/Cold Spots for Result Verification"
   ]
  },
  {
   "cell_type": "code",
   "execution_count": null,
   "metadata": {},
   "outputs": [],
   "source": [
    "# Min Temps\n",
    "\n",
    "arcpy.stats.HotSpots(\"full_dataset_XYTableToPoint\", \"Min_Temp\", r\"C:\\Users\\tande\\Documents\\ArcGIS\\Projects\\GIS5571_Lab3Part2\\GIS5571_Lab3Part2.gdb\\full_dataset_XYTableToPoint_HotSpots\", \"K_NEAREST_NEIGHBORS\", \"EUCLIDEAN_DISTANCE\", \"ROW\", None, None, None, \"NO_FDR\", 8)\n",
    "\n",
    "# Max Temps\n",
    "\n",
    "arcpy.stats.HotSpots(\"full_dataset_XYTableToPoint\", \"Max_Temp\", r\"C:\\Users\\tande\\Documents\\ArcGIS\\Projects\\GIS5571_Lab3Part2\\GIS5571_Lab3Part2.gdb\\full_dataset_XYTableToPoint_MaxHotSpots\", \"K_NEAREST_NEIGHBORS\", \"EUCLIDEAN_DISTANCE\", \"ROW\", None, None, None, \"NO_FDR\", 10)\n",
    "\n",
    "# Avg Temps\n",
    "\n",
    "arcpy.stats.HotSpots(\"full_dataset_XYTableToPoint\", \"Avg_Temp\", r\"C:\\Users\\tande\\Documents\\ArcGIS\\Projects\\GIS5571_Lab3Part2\\GIS5571_Lab3Part2.gdb\\full_dataset_XYTableToPoint_AvgHotSpots\", \"K_NEAREST_NEIGHBORS\", \"EUCLIDEAN_DISTANCE\", \"ROW\", None, None, None, \"NO_FDR\", 10)"
   ]
  }
 ],
 "metadata": {
  "kernelspec": {
   "display_name": "ArcGISPro",
   "language": "Python",
   "name": "python3"
  },
  "language_info": {
   "file_extension": ".py",
   "name": "python",
   "version": "3"
  }
 },
 "nbformat": 4,
 "nbformat_minor": 2
}
