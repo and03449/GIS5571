{
 "cells": [
  {
   "cell_type": "markdown",
   "metadata": {},
   "source": [
    "# Dory's Story"
   ]
  },
  {
   "cell_type": "markdown",
   "metadata": {},
   "source": [
    "## Import Packages"
   ]
  },
  {
   "cell_type": "code",
   "execution_count": 5,
   "metadata": {},
   "outputs": [],
   "source": [
    "import pandas as pd\n",
    "import zipfile\n",
    "import requests\n",
    "import io\n",
    "import arcpy"
   ]
  },
  {
   "cell_type": "markdown",
   "metadata": {},
   "source": [
    "## Set Working Folder"
   ]
  },
  {
   "cell_type": "code",
   "execution_count": 7,
   "metadata": {},
   "outputs": [],
   "source": [
    "dory_working = r\"C:\\Users\\tande\\Documents\\GIS5571\\GIS5571 Lab 2\\Dory\""
   ]
  },
  {
   "cell_type": "markdown",
   "metadata": {},
   "source": [
    "## Call in XY Coordinates"
   ]
  },
  {
   "cell_type": "code",
   "execution_count": 5,
   "metadata": {},
   "outputs": [],
   "source": [
    "startXY = pd.read_csv(r\"C:\\Users\\tande\\Documents\\GitHub\\GIS5571\\Lab 02\\Dory Farm XY.csv\")\n",
    "endXY = pd.read_csv(r\"C:\\Users\\tande\\Documents\\GitHub\\GIS5571\\Lab 02\\North Picnic XY.csv\")"
   ]
  },
  {
   "cell_type": "markdown",
   "metadata": {},
   "source": [
    "## Import Data "
   ]
  },
  {
   "cell_type": "code",
   "execution_count": 20,
   "metadata": {},
   "outputs": [],
   "source": [
    "# County boundaries\n",
    "county_url = 'https://resources.gisdata.mn.gov/pub/gdrs/data/pub/us_mn_state_dot/bdry_counties/shp_bdry_counties.zip'\n",
    "county_post_request = requests.post(county_url)\n",
    "county_post_request\n",
    "\n",
    "county_zipped = zipfile.ZipFile(\n",
    "        io.BytesIO(\n",
    "            county_post_request.content)\n",
    ")\n",
    "\n",
    "county_zipped.extractall(dory_working)\n",
    "county = 'County_Boundaries_in_Minnesota.shp'\n",
    "\n",
    "# MN Landcover\n",
    "landcover_url = 'https://resources.gisdata.mn.gov/pub/gdrs/data/pub/us_mn_state_dnr/biota_landcover_nlcd_mn_2019/tif_biota_landcover_nlcd_mn_2019.zip'\n",
    "landcover_post_request = requests.post(landcover_url)\n",
    "landcover_post_request\n",
    "\n",
    "landcover_zipped = zipfile.ZipFile(\n",
    "        io.BytesIO(\n",
    "            landcover_post_request.content)\n",
    ")\n",
    "\n",
    "landcover_zipped.extractall(dory_working)\n",
    "landcover = \"NLCD 2019 - Land Cover.lyrx\"\n",
    "\n",
    "# Water routes\n",
    "\n",
    "water_url = 'https://resources.gisdata.mn.gov/pub/gdrs/data/pub/us_mn_state_dnr/water_strahler_stream_order/shp_water_strahler_stream_order.zip'\n",
    "water_post_request = requests.post(water_url)\n",
    "water_post_request\n",
    "\n",
    "water_zipped = zipfile.ZipFile(\n",
    "        io.BytesIO(\n",
    "            water_post_request.content)\n",
    ")\n",
    "\n",
    "water_zipped.extractall(dory_working)\n",
    "\n",
    "stream = 'streams_with_strahler_stream_order.shp'\n",
    "\n",
    "# Elevation \n",
    "\n",
    "elevation_url = 'https://resources.gisdata.mn.gov/pub/gdrs/data/pub/us_mn_state_dnr/elev_30m_digital_elevation_model/fgdb_elev_30m_digital_elevation_model.zip'\n",
    "elevation_post_request = requests.post(elevation_url)\n",
    "elevation_post_request\n",
    "\n",
    "elevation_zipped = zipfile.ZipFile(\n",
    "        io.BytesIO(\n",
    "            elevation_post_request.content)\n",
    ")\n",
    "\n",
    "elevation_zipped.extractall(dory_working)\n",
    "\n",
    "elevation = 'Digital Elevation Model - 30m Resolution.lyr'\n",
    "\n",
    "roads_url = 'https://resources.gisdata.mn.gov/pub/gdrs/data/pub/us_mn_state_dot/trans_roads_mndot_tis/shp_trans_roads_mndot_tis.zip'\n",
    "roads_post_request = requests.post(roads_url)\n",
    "roads_post_request\n",
    "\n",
    "roads_zipped = zipfile.ZipFile(\n",
    "        io.BytesIO(\n",
    "            roads_post_request.content)\n",
    ")\n",
    "\n",
    "roads_zipped.extractall(dory_working)\n",
    "\n",
    "roads = 'STREETS_LOAD.shp'"
   ]
  },
  {
   "cell_type": "code",
   "execution_count": 2,
   "metadata": {},
   "outputs": [
    {
     "data": {
      "text/html": [
       "<div class='gpresult'><h2>Messages</h2><div id='messages' data-messages='[\"Start Time: Saturday, November 19, 2022 6:09:03 PM\",\"Succeeded at Saturday, November 19, 2022 6:09:04 PM (Elapsed Time: 1.61 seconds)\"]' data-show='true'><div id = 'default' /></div></div>"
      ],
      "text/plain": [
       "<Result 'C:\\\\Users\\\\tande\\\\Documents\\\\GIS5571\\\\GIS5571 Lab 2\\\\Dory\\\\GIS5571_Lab2Part2\\\\GIS5571_Lab2Part2.gdb\\\\NorthPicnicXY_XYTableToPoint1'>"
      ]
     },
     "execution_count": 2,
     "metadata": {},
     "output_type": "execute_result"
    }
   ],
   "source": [
    "# XY Coordinates to Points\n",
    "\n",
    "arcpy.management.XYTableToPoint(\"Dory Farm XY.csv\", r\"C:\\Users\\tande\\Documents\\GIS5571\\GIS5571 Lab 2\\Dory\\GIS5571_Lab2Part2\\GIS5571_Lab2Part2.gdb\\DoryFarmXY_XYTableToPoint1\", \"Y\", \"X\", None, 'GEOGCS[\"GCS_WGS_1984\",DATUM[\"D_WGS_1984\",SPHEROID[\"WGS_1984\",6378137.0,298.257223563]],PRIMEM[\"Greenwich\",0.0],UNIT[\"Degree\",0.0174532925199433]];-400 -400 1000000000;-100000 10000;-100000 10000;8.98315284119521E-09;0.001;0.001;IsHighPrecision')\n",
    "arcpy.management.XYTableToPoint(\"North Picnic XY.csv\", r\"C:\\Users\\tande\\Documents\\GIS5571\\GIS5571 Lab 2\\Dory\\GIS5571_Lab2Part2\\GIS5571_Lab2Part2.gdb\\NorthPicnicXY_XYTableToPoint1\", \"Y\", \"X\", None, 'GEOGCS[\"GCS_WGS_1984\",DATUM[\"D_WGS_1984\",SPHEROID[\"WGS_1984\",6378137.0,298.257223563]],PRIMEM[\"Greenwich\",0.0],UNIT[\"Degree\",0.0174532925199433]];-400 -400 1000000000;-100000 10000;-100000 10000;8.98315284119521E-09;0.001;0.001;IsHighPrecision')"
   ]
  },
  {
   "cell_type": "markdown",
   "metadata": {},
   "source": [
    "## Clipping to Extent"
   ]
  },
  {
   "cell_type": "code",
   "execution_count": 27,
   "metadata": {},
   "outputs": [
    {
     "ename": "ExecuteError",
     "evalue": "Failed to execute. Parameters are not valid.\nERROR 000840: The value is not a Mosaic Dataset.\nERROR 000840: The value is not a Mosaic Layer.\nERROR 000840: The value is not a Raster Dataset.\nERROR 000840: The value is not a Raster Layer.\nWARNING 000725: Output Raster Dataset: Dataset C:\\Users\\tande\\Documents\\GIS5571\\GIS5571 Lab 2\\Dory\\GIS5571_Lab2Part2\\GIS5571_Lab2Part2.gdb\\digital_elevation_model_Clip already exists.\nFailed to execute (Clip).\n",
     "output_type": "error",
     "traceback": [
      "\u001b[0;31m---------------------------------------------------------------------------\u001b[0m\n\u001b[0;31mExecuteError\u001b[0m                              Traceback (most recent call last)",
      "In  \u001b[0;34m[27]\u001b[0m:\nLine \u001b[0;34m15\u001b[0m:    arcpy.management.Clip(\u001b[33m\"\u001b[39;49;00m\u001b[33mDigital Elevation Model - 30m Resolution\u001b[39;49;00m\u001b[33m\"\u001b[39;49;00m, \u001b[33m\"\u001b[39;49;00m\u001b[33m524956.361 4853464.52 637943.77 4922616.7\u001b[39;49;00m\u001b[33m\"\u001b[39;49;00m, \u001b[33mr\u001b[39;49;00m\u001b[33m\"\u001b[39;49;00m\u001b[33mC:\u001b[39;49;00m\u001b[33m\\\u001b[39;49;00m\u001b[33mUsers\u001b[39;49;00m\u001b[33m\\\u001b[39;49;00m\u001b[33mtande\u001b[39;49;00m\u001b[33m\\\u001b[39;49;00m\u001b[33mDocuments\u001b[39;49;00m\u001b[33m\\\u001b[39;49;00m\u001b[33mGIS5571\u001b[39;49;00m\u001b[33m\\\u001b[39;49;00m\u001b[33mGIS5571 Lab 2\u001b[39;49;00m\u001b[33m\\\u001b[39;49;00m\u001b[33mDory\u001b[39;49;00m\u001b[33m\\\u001b[39;49;00m\u001b[33mGIS5571_Lab2Part2\u001b[39;49;00m\u001b[33m\\\u001b[39;49;00m\u001b[33mGIS5571_Lab2Part2.gdb\u001b[39;49;00m\u001b[33m\\\u001b[39;49;00m\u001b[33mdigital_elevation_model_Clip\u001b[39;49;00m\u001b[33m\"\u001b[39;49;00m, \u001b[33m\"\u001b[39;49;00m\u001b[33mSelected_County_Boundaries\u001b[39;49;00m\u001b[33m\"\u001b[39;49;00m, \u001b[33m\"\u001b[39;49;00m\u001b[33m32767\u001b[39;49;00m\u001b[33m\"\u001b[39;49;00m, \u001b[33m\"\u001b[39;49;00m\u001b[33mNONE\u001b[39;49;00m\u001b[33m\"\u001b[39;49;00m, \u001b[33m\"\u001b[39;49;00m\u001b[33mNO_MAINTAIN_EXTENT\u001b[39;49;00m\u001b[33m\"\u001b[39;49;00m)\n",
      "File \u001b[0;34mC:\\Program Files\\ArcGIS\\Pro\\Resources\\ArcPy\\arcpy\\management.py\u001b[0m, in \u001b[0;32mClip\u001b[0m:\nLine \u001b[0;34m20104\u001b[0m: \u001b[34mraise\u001b[39;49;00m e\n",
      "File \u001b[0;34mC:\\Program Files\\ArcGIS\\Pro\\Resources\\ArcPy\\arcpy\\management.py\u001b[0m, in \u001b[0;32mClip\u001b[0m:\nLine \u001b[0;34m20101\u001b[0m: retval = convertArcObjectToPythonObject(gp.Clip_management(*gp_fixargs((in_raster, rectangle, out_raster, in_template_dataset, nodata_value, clipping_geometry, maintain_clipping_extent), \u001b[34mTrue\u001b[39;49;00m)))\n",
      "File \u001b[0;34mC:\\Program Files\\ArcGIS\\Pro\\Resources\\ArcPy\\arcpy\\geoprocessing\\_base.py\u001b[0m, in \u001b[0;32m<lambda>\u001b[0m:\nLine \u001b[0;34m512\u001b[0m:   \u001b[34mreturn\u001b[39;49;00m \u001b[34mlambda\u001b[39;49;00m *args: val(*gp_fixargs(args, \u001b[34mTrue\u001b[39;49;00m))\n",
      "\u001b[0;31mExecuteError\u001b[0m: Failed to execute. Parameters are not valid.\nERROR 000840: The value is not a Mosaic Dataset.\nERROR 000840: The value is not a Mosaic Layer.\nERROR 000840: The value is not a Raster Dataset.\nERROR 000840: The value is not a Raster Layer.\nWARNING 000725: Output Raster Dataset: Dataset C:\\Users\\tande\\Documents\\GIS5571\\GIS5571 Lab 2\\Dory\\GIS5571_Lab2Part2\\GIS5571_Lab2Part2.gdb\\digital_elevation_model_Clip already exists.\nFailed to execute (Clip).\n\n\u001b[0;31m---------------------------------------------------------------------------\u001b[0m"
     ]
    }
   ],
   "source": [
    "# The extent I am using are the 3 counties surrounding the points: Olmstead, Winona, and Wabasha\n",
    "\n",
    "# Add all data to ArcPro\n",
    "\n",
    "# Selecting this extent\n",
    "arcpy.management.SelectLayerByAttribute(county, \"NEW_SELECTION\", \"COUNTY_NAM = 'Wabasha' And COUNTY_NAM = 'Olmsted' And COUNTY_NAM = 'Winona'\", None)\n",
    "\n",
    "# Clipping the boundaries to the selected boundaries\n",
    "arcpy.analysis.PairwiseClip(\"County_Boundaries_in_Minnesota\", \"County_Boundaries_in_Minnesota\", r\"C:\\Users\\tande\\Documents\\GIS5571\\GIS5571 Lab 2\\Dory\\GIS5571_Lab2Part2\\GIS5571_Lab2Part2.gdb\\Selected_County_Boundaries\", None)\n",
    "\n",
    "# Clipping streams to selected boundaries\n",
    "arcpy.analysis.PairwiseClip('streams_with_strahler_stream_order', \"County_Boundari_PairwiseClip\", r\"C:\\Users\\tande\\Documents\\GIS5571\\GIS5571 Lab 2\\Dory\\GIS5571_Lab2Part2\\GIS5571_Lab2Part2.gdb\\streams_with_st_PairwiseClip\", None)\n",
    "\n",
    "# Clipping DEM\n",
    "arcpy.management.Clip(r\"Digital Elevation Model - 30m Resolution\\Digital Elevation Model\", \"524956.361 4853464.52 637943.77 4922616.7\", r\"C:\\Users\\tande\\Documents\\GIS5571\\GIS5571 Lab 2\\Dory\\GIS5571_Lab2Part2\\GIS5571_Lab2Part2.gdb\\DigitalElevationModel_Clip\", \"County_Boundari_PairwiseClip\", \"32767\", \"NONE\", \"MAINTAIN_EXTENT\")\n",
    "\n",
    "# Clipping Land Cover\n",
    "arcpy.management.Clip(\"NLCD 2019 - Land Cover\", \"524956.361 4853464.52 637943.77 4922616.7\", r\"C:\\Users\\tande\\Documents\\GIS5571\\GIS5571 Lab 2\\Dory\\GIS5571_Lab2Part2\\GIS5571_Lab2Part2.gdb\\NLCD2019LandCover_Clip\", \"County_Boundari_PairwiseClip\", \"255\", \"NONE\", \"NO_MAINTAIN_EXTENT\")\n",
    "\n",
    "# Clipping roads\n",
    "arcpy.analysis.PairwiseClip(\"STREETS_LOAD\", \"County_Boundari_PairwiseClip\", r\"C:\\Users\\tande\\Documents\\GIS5571\\GIS5571 Lab 2\\Dory\\GIS5571_Lab2Part2\\GIS5571_Lab2Part2.gdb\\STREETS_LOAD_PairwiseClip1\", None)"
   ]
  },
  {
   "cell_type": "markdown",
   "metadata": {},
   "source": [
    "## Preparing Each Clipped Dataset for Raster Calculator"
   ]
  },
  {
   "cell_type": "code",
   "execution_count": null,
   "metadata": {},
   "outputs": [],
   "source": [
    "# Reclassifying Ref https://pro.arcgis.com/en/pro-app/latest/tool-reference/spatial-analyst/creating-a-cost-surface-raster.htm\n",
    "\n",
    "# For commonalities in rasters - using 9 classifications and Red-Yellow-Green continuous symbology \n",
    "\n",
    "# I don't think symbology matters but just doing this for good measure"
   ]
  },
  {
   "cell_type": "markdown",
   "metadata": {},
   "source": [
    "### County Boundaries"
   ]
  },
  {
   "cell_type": "code",
   "execution_count": null,
   "metadata": {},
   "outputs": [],
   "source": [
    "# Only used for clipping the extent"
   ]
  },
  {
   "cell_type": "markdown",
   "metadata": {},
   "source": [
    "### Road Network"
   ]
  },
  {
   "cell_type": "code",
   "execution_count": 28,
   "metadata": {},
   "outputs": [
    {
     "ename": "ExecuteError",
     "evalue": "Failed to execute. Parameters are not valid.\nERROR 000732: Input Features: Dataset STREETS_LOAD does not exist or is not supported\nWARNING 000725: Output Feature Class: Dataset C:\\Users\\tande\\Documents\\GIS5571\\GIS5571 Lab 2\\Dory\\GIS5571_Lab2Part2\\GIS5571_Lab2Part2.gdb\\STREETS_LOAD_PairwiseClip1 already exists.\nFailed to execute (PairwiseClip).\n",
     "output_type": "error",
     "traceback": [
      "\u001b[0;31m---------------------------------------------------------------------------\u001b[0m\n\u001b[0;31mExecuteError\u001b[0m                              Traceback (most recent call last)",
      "In  \u001b[0;34m[28]\u001b[0m:\nLine \u001b[0;34m3\u001b[0m:     arcpy.analysis.PairwiseClip(\u001b[33m\"\u001b[39;49;00m\u001b[33mSTREETS_LOAD\u001b[39;49;00m\u001b[33m\"\u001b[39;49;00m, \u001b[33m\"\u001b[39;49;00m\u001b[33mCounty_Boundari_PairwiseClip\u001b[39;49;00m\u001b[33m\"\u001b[39;49;00m, \u001b[33mr\u001b[39;49;00m\u001b[33m\"\u001b[39;49;00m\u001b[33mC:\u001b[39;49;00m\u001b[33m\\\u001b[39;49;00m\u001b[33mUsers\u001b[39;49;00m\u001b[33m\\\u001b[39;49;00m\u001b[33mtande\u001b[39;49;00m\u001b[33m\\\u001b[39;49;00m\u001b[33mDocuments\u001b[39;49;00m\u001b[33m\\\u001b[39;49;00m\u001b[33mGIS5571\u001b[39;49;00m\u001b[33m\\\u001b[39;49;00m\u001b[33mGIS5571 Lab 2\u001b[39;49;00m\u001b[33m\\\u001b[39;49;00m\u001b[33mDory\u001b[39;49;00m\u001b[33m\\\u001b[39;49;00m\u001b[33mGIS5571_Lab2Part2\u001b[39;49;00m\u001b[33m\\\u001b[39;49;00m\u001b[33mGIS5571_Lab2Part2.gdb\u001b[39;49;00m\u001b[33m\\\u001b[39;49;00m\u001b[33mSTREETS_LOAD_PairwiseClip1\u001b[39;49;00m\u001b[33m\"\u001b[39;49;00m, \u001b[34mNone\u001b[39;49;00m)\n",
      "File \u001b[0;34mC:\\Program Files\\ArcGIS\\Pro\\Resources\\ArcPy\\arcpy\\analysis.py\u001b[0m, in \u001b[0;32mPairwiseClip\u001b[0m:\nLine \u001b[0;34m1059\u001b[0m:  \u001b[34mraise\u001b[39;49;00m e\n",
      "File \u001b[0;34mC:\\Program Files\\ArcGIS\\Pro\\Resources\\ArcPy\\arcpy\\analysis.py\u001b[0m, in \u001b[0;32mPairwiseClip\u001b[0m:\nLine \u001b[0;34m1056\u001b[0m:  retval = convertArcObjectToPythonObject(gp.PairwiseClip_analysis(*gp_fixargs((in_features, clip_features, out_feature_class, cluster_tolerance), \u001b[34mTrue\u001b[39;49;00m)))\n",
      "File \u001b[0;34mC:\\Program Files\\ArcGIS\\Pro\\Resources\\ArcPy\\arcpy\\geoprocessing\\_base.py\u001b[0m, in \u001b[0;32m<lambda>\u001b[0m:\nLine \u001b[0;34m512\u001b[0m:   \u001b[34mreturn\u001b[39;49;00m \u001b[34mlambda\u001b[39;49;00m *args: val(*gp_fixargs(args, \u001b[34mTrue\u001b[39;49;00m))\n",
      "\u001b[0;31mExecuteError\u001b[0m: Failed to execute. Parameters are not valid.\nERROR 000732: Input Features: Dataset STREETS_LOAD does not exist or is not supported\nWARNING 000725: Output Feature Class: Dataset C:\\Users\\tande\\Documents\\GIS5571\\GIS5571 Lab 2\\Dory\\GIS5571_Lab2Part2\\GIS5571_Lab2Part2.gdb\\STREETS_LOAD_PairwiseClip1 already exists.\nFailed to execute (PairwiseClip).\n\n\u001b[0;31m---------------------------------------------------------------------------\u001b[0m"
     ]
    }
   ],
   "source": [
    "# Create a 100m buffer around all roads in the extent\n",
    "\n",
    "arcpy.analysis.PairwiseBuffer(\"STREETS_LOAD_PairwiseClip1\", r\"C:\\Users\\tande\\Documents\\GIS5571\\GIS5571 Lab 2\\Dory\\GIS5571_Lab2Part2\\GIS5571_Lab2Part2.gdb\\STREETS_LOAD_P_PairwiseBuffe\", \"100 Meters\", \"NONE\", None, \"PLANAR\", \"0 Meters\")\n",
    "\n",
    "# Ready to be used to clip rivers (to remove any rivers flowing under bridges)"
   ]
  },
  {
   "cell_type": "markdown",
   "metadata": {},
   "source": [
    "### Streams"
   ]
  },
  {
   "cell_type": "code",
   "execution_count": null,
   "metadata": {},
   "outputs": [],
   "source": [
    "# Create a 100m buffer around all streams in the extent\n",
    "\n",
    "arcpy.analysis.PairwiseBuffer(\"streams_with_st_PairwiseClip\", r\"C:\\Users\\tande\\Documents\\GIS5571\\GIS5571 Lab 2\\Dory\\GIS5571_Lab2Part2\\GIS5571_Lab2Part2.gdb\\streams_with_s_PairwiseBuffe\", \"100 Meters\", \"NONE\", None, \"PLANAR\", \"0 Meters\") \n",
    "\n",
    "# Finding where rivers and roads intersect\n",
    "\n",
    "arcpy.analysis.PairwiseIntersect(\"streams_with_s_PairwiseBuffe;STREETS_LOAD_P_PairwiseBuffe\", r\"C:\\Users\\tande\\Documents\\GIS5571\\GIS5571 Lab 2\\Dory\\GIS5571_Lab2Part2\\GIS5571_Lab2Part2.gdb\\streams_street_intersect\", \"ALL\", None, \"INPUT\")\n",
    "\n",
    "# Erasing rivers where roads overlap\n",
    "\n",
    "arcpy.analysis.PairwiseErase(\"streams_with_s_PairwiseBuffe\", \"streams_street_intersect\", r\"C:\\Users\\tande\\Documents\\GIS5571\\GIS5571 Lab 2\\Dory\\GIS5571_Lab2Part2\\GIS5571_Lab2Part2.gdb\\streams_street_PairwiseErase\", None)\n",
    "\n",
    "# Merge the streams dataset with the boundaries to identify any no value cells\n",
    "\n",
    "arcpy.management.Merge(\"County_Boundari_PairwiseClip;streams_street_PairwiseErase\", r\"C:\\Users\\tande\\Documents\\GIS5571\\GIS5571 Lab 2\\Dory\\GIS5571_Lab2Part2\\GIS5571_Lab2Part2.gdb\\streams_street_Pairwis_Merge\", None, \"NO_SOURCE_INFO\")\n",
    "\n",
    "# Converting to raster\n",
    "\n",
    "arcpy.conversion.FeatureToRaster(\"streams_street_Pairwis_Merge\", \"SO_VALUE\", r\"C:\\Users\\tande\\Documents\\GIS5571\\GIS5571 Lab 2\\Dory\\GIS5571_Lab2Part2\\GIS5571_Lab2Part2.gdb\\stream_raster\", 277.382114)\n",
    "\n",
    "# Reclassify the raster\n",
    "\n",
    "arcpy.ddd.Reclassify(\"stream_raster\", \"Value\", \"1 1;2 2;3 3;4 4;5 5;6 6;8 7;NODATA 0\", r\"C:\\Users\\tande\\Documents\\GIS5571\\GIS5571 Lab 2\\Dory\\GIS5571_Lab2Part2\\GIS5571_Lab2Part2.gdb\\stream_reclass\", \"NODATA\")\n",
    "\n",
    "# Ready for Cost Surface\n",
    "\n",
    "# Final raster name 'stream_reclass'"
   ]
  },
  {
   "cell_type": "markdown",
   "metadata": {},
   "source": [
    "### Elevation"
   ]
  },
  {
   "cell_type": "code",
   "execution_count": null,
   "metadata": {},
   "outputs": [],
   "source": [
    "# Calculate Slope\n",
    "\n",
    "arcpy.ddd.Slope(\"DigitalElevationModel_Clip\", r\"C:\\Users\\tande\\Documents\\GIS5571\\GIS5571 Lab 2\\Dory\\GIS5571_Lab2Part2\\GIS5571_Lab2Part2.gdb\\Slope_DEM\", \"DEGREE\", 1, \"PLANAR\", \"METER\")\n",
    "\n",
    "# Reclassify\n",
    "\n",
    "arcpy.ddd.Reclassify(\"Slope_DEM\", \"VALUE\", \"0 1.720000 1;1.720000 3.430000 1;3.430000 5.710000 2;5.710000 8.530000 3;8.530000 11.300000 4;11.300000 14.040000 5;14.040000 16.700000 5;16.700000 21.800000 6;21.800000 30.960000 6;30.960000 45 7;45 90 7;NODATA 0\", r\"C:\\Users\\tande\\Documents\\GIS5571\\GIS5571 Lab 2\\Dory\\GIS5571_Lab2Part2\\GIS5571_Lab2Part2.gdb\\DEM_reclass\", \"NODATA\")\n",
    "\n",
    "# Ready for Cost Surface\n",
    "\n",
    "# Final raster name 'DEM_reclass'"
   ]
  },
  {
   "cell_type": "markdown",
   "metadata": {},
   "source": [
    "### Land Cover"
   ]
  },
  {
   "cell_type": "code",
   "execution_count": null,
   "metadata": {},
   "outputs": [],
   "source": [
    "# Reclassify \n",
    "\n",
    "arcpy.ddd.Reclassify(r\"C:\\Users\\tande\\Documents\\GIS5571\\GIS5571 Lab 2\\Dory\\GIS5571_Lab2Part2\\GIS5571_Lab2Part2.gdb\\NLCD2019LandCover_Clip\", \"NLCD_Land\", \"'Open Water' 1;'Developed, Open Space' 2;'Developed, Low Intensity' 2;'Developed, Medium Intensity' 2;'Developed, High Intensity' 2;'Barren Land' 3;'Deciduous Forest' 4;'Evergreen Forest' 4;'Mixed Forest' 4;Shrub/Scrub 5;Herbaceous 5;Hay/Pasture 6;'Cultivated Crops' 7;'Woody Wetlands' 14;'Emergent Herbaceous Wetlands' 7;NODATA 0\", r\"C:\\Users\\tande\\Documents\\GIS5571\\GIS5571 Lab 2\\Dory\\GIS5571_Lab2Part2\\GIS5571_Lab2Part2.gdb\\landcover_reclass\", \"NODATA\")\n",
    "\n",
    "# Ready for Cost Surface\n",
    "\n",
    "# Final raster name 'landcover_reclass'"
   ]
  },
  {
   "cell_type": "markdown",
   "metadata": {},
   "source": [
    "## Cost Surface Analysis"
   ]
  },
  {
   "cell_type": "code",
   "execution_count": null,
   "metadata": {},
   "outputs": [],
   "source": [
    "# Weighted Overlay to try out different weights\n",
    "\n",
    "## 33(34)% weight for each raster\n",
    "\n",
    "out_raster = arcpy.sa.WeightedOverlay(r\"('C:\\Users\\tande\\Documents\\GIS5571\\GIS5571 Lab 2\\Dory\\GIS5571_Lab2Part2\\GIS5571_Lab2Part2.gdb\\landcover_reclass' 33 'Value' (1 1; 2 2; 3 3; 4 4; 5 5; 6 6; 7 7; 14 1; NODATA NODATA); 'C:\\Users\\tande\\Documents\\GIS5571\\GIS5571 Lab 2\\Dory\\GIS5571_Lab2Part2\\GIS5571_Lab2Part2.gdb\\DEM_reclass' 33 'Value' (0 1; 1 1; 2 2; 3 3; 4 4; 5 5; 6 6; 7 7; NODATA NODATA); 'C:\\Users\\tande\\Documents\\GIS5571\\GIS5571 Lab 2\\Dory\\GIS5571_Lab2Part2\\GIS5571_Lab2Part2.gdb\\stream_reclass' 34 'Value' (0 1; 1 1; 2 2; 3 3; 4 4; 5 5; 6 6; 7 7; NODATA NODATA));1 9 1\"); out_raster.save(r\"C:\\Users\\tande\\Documents\\GIS5571\\GIS5571 Lab 2\\Dory\\GIS5571_Lab2Part2\\GIS5571_Lab2Part2.gdb\\Weighted_1\")\n",
    "\n",
    "## 10% Streams, 30% Elevation, 60% Land Cover\n",
    "\n",
    "out_raster = arcpy.sa.WeightedOverlay(r\"('C:\\Users\\tande\\Documents\\GIS5571\\GIS5571 Lab 2\\Dory\\GIS5571_Lab2Part2\\GIS5571_Lab2Part2.gdb\\landcover_reclass' 60 'Value' (1 1; 2 2; 3 3; 4 4; 5 5; 6 6; 7 7; 14 1; NODATA NODATA); 'C:\\Users\\tande\\Documents\\GIS5571\\GIS5571 Lab 2\\Dory\\GIS5571_Lab2Part2\\GIS5571_Lab2Part2.gdb\\DEM_reclass' 30 'Value' (0 1; 1 1; 2 2; 3 3; 4 4; 5 5; 6 6; 7 7; NODATA NODATA); 'C:\\Users\\tande\\Documents\\GIS5571\\GIS5571 Lab 2\\Dory\\GIS5571_Lab2Part2\\GIS5571_Lab2Part2.gdb\\stream_reclass' 10 'Value' (0 1; 1 1; 2 2; 3 3; 4 4; 5 5; 6 6; 7 7; NODATA NODATA));1 9 1\"); out_raster.save(r\"C:\\Users\\tande\\Documents\\GIS5571\\GIS5571 Lab 2\\Dory\\GIS5571_Lab2Part2\\GIS5571_Lab2Part2.gdb\\Weighted_2\")\n",
    "\n",
    "## 10% Streams, 60% Elevation, 30% Land Cover\n",
    "\n",
    "out_raster = arcpy.sa.WeightedOverlay(r\"('C:\\Users\\tande\\Documents\\GIS5571\\GIS5571 Lab 2\\Dory\\GIS5571_Lab2Part2\\GIS5571_Lab2Part2.gdb\\landcover_reclass' 30 'Value' (1 1; 2 2; 3 3; 4 4; 5 5; 6 6; 7 7; 14 1; NODATA NODATA); 'C:\\Users\\tande\\Documents\\GIS5571\\GIS5571 Lab 2\\Dory\\GIS5571_Lab2Part2\\GIS5571_Lab2Part2.gdb\\DEM_reclass' 60 'Value' (0 1; 1 1; 2 2; 3 3; 4 4; 5 5; 6 6; 7 7; NODATA NODATA); 'C:\\Users\\tande\\Documents\\GIS5571\\GIS5571 Lab 2\\Dory\\GIS5571_Lab2Part2\\GIS5571_Lab2Part2.gdb\\stream_reclass' 10 'Value' (0 1; 1 1; 2 2; 3 3; 4 4; 5 5; 6 6; 7 7; NODATA NODATA));1 9 1\"); out_raster.save(r\"C:\\Users\\tande\\Documents\\GIS5571\\GIS5571 Lab 2\\Dory\\GIS5571_Lab2Part2\\GIS5571_Lab2Part2.gdb\\Weighted_3\")\n",
    "\n",
    "## 60% Streams, 10% Elevation, 30% Land Cover\n",
    "\n",
    "out_raster = arcpy.sa.WeightedOverlay(r\"('C:\\Users\\tande\\Documents\\GIS5571\\GIS5571 Lab 2\\Dory\\GIS5571_Lab2Part2\\GIS5571_Lab2Part2.gdb\\landcover_reclass' 30 'Value' (1 1; 2 2; 3 3; 4 4; 5 5; 6 6; 7 7; 14 1; NODATA NODATA); 'C:\\Users\\tande\\Documents\\GIS5571\\GIS5571 Lab 2\\Dory\\GIS5571_Lab2Part2\\GIS5571_Lab2Part2.gdb\\DEM_reclass' 10 'Value' (0 1; 1 1; 2 2; 3 3; 4 4; 5 5; 6 6; 7 7; NODATA NODATA); 'C:\\Users\\tande\\Documents\\GIS5571\\GIS5571 Lab 2\\Dory\\GIS5571_Lab2Part2\\GIS5571_Lab2Part2.gdb\\stream_reclass' 60 'Value' (0 1; 1 1; 2 2; 3 3; 4 4; 5 5; 6 6; 7 7; NODATA NODATA));1 9 1\"); out_raster.save(r\"C:\\Users\\tande\\Documents\\GIS5571\\GIS5571 Lab 2\\Dory\\GIS5571_Lab2Part2\\GIS5571_Lab2Part2.gdb\\Weighted_4\")"
   ]
  },
  {
   "cell_type": "markdown",
   "metadata": {},
   "source": [
    "## Cost Path"
   ]
  },
  {
   "cell_type": "code",
   "execution_count": null,
   "metadata": {},
   "outputs": [],
   "source": [
    "# Path 1 - 33(34)% weight for each raster\n",
    "\n",
    "# Cost distance to North Picnic\n",
    "\n",
    "out_distance_raster = arcpy.sa.CostDistance(\"NorthPicnicXY_XYTableToPoint1\", \"Weighted_1\", None, r\"C:\\Users\\tande\\Documents\\GIS5571\\GIS5571 Lab 2\\Dory\\GIS5571_Lab2Part2\\GIS5571_Lab2Part2.gdb\\CostBL_North\", None, None, None, None, ''); out_distance_raster.save(r\"C:\\Users\\tande\\Documents\\GIS5571\\GIS5571 Lab 2\\Dory\\GIS5571_Lab2Part2\\GIS5571_Lab2Part2.gdb\\CostDis_North\")\n",
    "\n",
    "# Back link to Dory's Farm\n",
    "\n",
    "out_backlink_raster = arcpy.sa.CostBackLink(\"DoryFarmXY_XYTableToPoint1\", \"Weighted_1\", None, r\"C:\\Users\\tande\\Documents\\GIS5571\\GIS5571 Lab 2\\Dory\\GIS5571_Lab2Part2\\GIS5571_Lab2Part2.gdb\\CostDis_Dory\", None, None, None, None, ''); out_backlink_raster.save(r\"C:\\Users\\tande\\Documents\\GIS5571\\GIS5571 Lab 2\\Dory\\GIS5571_Lab2Part2\\GIS5571_Lab2Part2.gdb\\CostBL_Dory\")\n",
    "\n",
    "# Final Cost Path\n",
    "\n",
    "out_raster = arcpy.sa.CostPath(\"DoryFarmXY_XYTableToPoint1\", \"CostDis_Dory\", \"CostBL_North\", \"BEST_SINGLE\", \"OBJECTID\", \"INPUT_RANGE\"); out_raster.save(r\"C:\\Users\\tande\\Documents\\GIS5571\\GIS5571 Lab 2\\Dory\\GIS5571_Lab2Part2\\GIS5571_Lab2Part2.gdb\\CostPath_Dory\")"
   ]
  },
  {
   "cell_type": "code",
   "execution_count": null,
   "metadata": {},
   "outputs": [],
   "source": [
    "# Path 2 - 10% Streams, 30% Elevation, 60% Land Cover\n",
    "\n",
    "# Cost distance to North Picnic\n",
    "\n",
    "out_distance_raster = arcpy.sa.CostDistance(\"NorthPicnicXY_XYTableToPoint1\", \"Weighted_2\", None, r\"C:\\Users\\tande\\Documents\\GIS5571\\GIS5571 Lab 2\\Dory\\GIS5571_Lab2Part2\\GIS5571_Lab2Part2.gdb\\CostBL_North2\", None, None, None, None, ''); out_distance_raster.save(r\"C:\\Users\\tande\\Documents\\GIS5571\\GIS5571 Lab 2\\Dory\\GIS5571_Lab2Part2\\GIS5571_Lab2Part2.gdb\\CostDis_North2\")\n",
    "\n",
    "# Back link to Dory's Farm\n",
    "\n",
    "out_backlink_raster = arcpy.sa.CostBackLink(\"DoryFarmXY_XYTableToPoint1\", \"Weighted_2\", None, r\"C:\\Users\\tande\\Documents\\GIS5571\\GIS5571 Lab 2\\Dory\\GIS5571_Lab2Part2\\GIS5571_Lab2Part2.gdb\\CostDis_Dory2\", None, None, None, None, ''); out_backlink_raster.save(r\"C:\\Users\\tande\\Documents\\GIS5571\\GIS5571 Lab 2\\Dory\\GIS5571_Lab2Part2\\GIS5571_Lab2Part2.gdb\\CostBL_Dory2\")\n",
    "\n",
    "# Final Cost Path\n",
    "\n",
    "out_raster = arcpy.sa.CostPath(\"DoryFarmXY_XYTableToPoint1\", \"CostDis_Dory2\", \"CostBL_North2\", \"BEST_SINGLE\", \"OBJECTID\", \"INPUT_RANGE\"); out_raster.save(r\"C:\\Users\\tande\\Documents\\GIS5571\\GIS5571 Lab 2\\Dory\\GIS5571_Lab2Part2\\GIS5571_Lab2Part2.gdb\\CostPath_Dory2\")"
   ]
  },
  {
   "cell_type": "code",
   "execution_count": null,
   "metadata": {},
   "outputs": [],
   "source": [
    "# Path 3 - 10% Streams, 60% Elevation, 30% Land Cover\n",
    "\n",
    "# Cost distance to North Picnic\n",
    "\n",
    "out_distance_raster = arcpy.sa.CostDistance(\"NorthPicnicXY_XYTableToPoint1\", \"Weighted_3\", None, r\"C:\\Users\\tande\\Documents\\GIS5571\\GIS5571 Lab 2\\Dory\\GIS5571_Lab2Part2\\GIS5571_Lab2Part2.gdb\\CostBL_North3\", None, None, None, None, ''); out_distance_raster.save(r\"C:\\Users\\tande\\Documents\\GIS5571\\GIS5571 Lab 2\\Dory\\GIS5571_Lab2Part2\\GIS5571_Lab2Part2.gdb\\CostDis_North3\")\n",
    "\n",
    "# Back link to Dory's Farm\n",
    "\n",
    "out_backlink_raster = arcpy.sa.CostBackLink(\"DoryFarmXY_XYTableToPoint1\", \"Weighted_3\", None, r\"C:\\Users\\tande\\Documents\\GIS5571\\GIS5571 Lab 2\\Dory\\GIS5571_Lab2Part2\\GIS5571_Lab2Part2.gdb\\CostDis_Dory3\", None, None, None, None, ''); out_backlink_raster.save(r\"C:\\Users\\tande\\Documents\\GIS5571\\GIS5571 Lab 2\\Dory\\GIS5571_Lab2Part2\\GIS5571_Lab2Part2.gdb\\CostBL_Dory3\")\n",
    "\n",
    "# Final Cost Path\n",
    "\n",
    "out_raster = arcpy.sa.CostPath(\"DoryFarmXY_XYTableToPoint1\", \"CostDis_Dory3\", \"CostBL_North3\", \"BEST_SINGLE\", \"OBJECTID\", \"INPUT_RANGE\"); out_raster.save(r\"C:\\Users\\tande\\Documents\\GIS5571\\GIS5571 Lab 2\\Dory\\GIS5571_Lab2Part2\\GIS5571_Lab2Part2.gdb\\CostPath_Dory3\")"
   ]
  },
  {
   "cell_type": "code",
   "execution_count": null,
   "metadata": {},
   "outputs": [],
   "source": [
    "# Path 4 - 60% Streams, 10% Elevation, 30% Land Cover\n",
    "\n",
    "#Cost distance to North Picnic\n",
    "\n",
    "out_distance_raster = arcpy.sa.CostDistance(\"NorthPicnicXY_XYTableToPoint1\", \"Weighted_4\", None, r\"C:\\Users\\tande\\Documents\\GIS5571\\GIS5571 Lab 2\\Dory\\GIS5571_Lab2Part2\\GIS5571_Lab2Part2.gdb\\CostBL_North4\", None, None, None, None, ''); out_distance_raster.save(r\"C:\\Users\\tande\\Documents\\GIS5571\\GIS5571 Lab 2\\Dory\\GIS5571_Lab2Part2\\GIS5571_Lab2Part2.gdb\\CostDis_North4\")\n",
    "\n",
    "# Back link to Dory's Farm\n",
    "\n",
    "out_backlink_raster = arcpy.sa.CostBackLink(\"DoryFarmXY_XYTableToPoint1\", \"Weighted_4\", None, r\"C:\\Users\\tande\\Documents\\GIS5571\\GIS5571 Lab 2\\Dory\\GIS5571_Lab2Part2\\GIS5571_Lab2Part2.gdb\\CostDis_Dory4\", None, None, None, None, ''); out_backlink_raster.save(r\"C:\\Users\\tande\\Documents\\GIS5571\\GIS5571 Lab 2\\Dory\\GIS5571_Lab2Part2\\GIS5571_Lab2Part2.gdb\\CostBL_Dory4\")\n",
    "\n",
    "# Final Cost Path\n",
    "\n",
    "out_raster = arcpy.sa.CostPath(\"DoryFarmXY_XYTableToPoint1\", \"CostDis_Dory4\", \"CostBL_North4\", \"BEST_SINGLE\", \"OBJECTID\", \"INPUT_RANGE\"); out_raster.save(r\"C:\\Users\\tande\\Documents\\GIS5571\\GIS5571 Lab 2\\Dory\\GIS5571_Lab2Part2\\GIS5571_Lab2Part2.gdb\\CostPath_Dory4\")"
   ]
  }
 ],
 "metadata": {
  "kernelspec": {
   "display_name": "ArcGISPro",
   "language": "Python",
   "name": "python3"
  },
  "language_info": {
   "file_extension": ".py",
   "name": "python",
   "version": "3"
  }
 },
 "nbformat": 4,
 "nbformat_minor": 2
}
