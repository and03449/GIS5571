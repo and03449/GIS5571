{
 "cells": [
  {
   "cell_type": "markdown",
   "metadata": {},
   "source": [
    "# LiDAR ETL - MN DNR"
   ]
  },
  {
   "cell_type": "markdown",
   "metadata": {},
   "source": [
    "## Importing Packages"
   ]
  },
  {
   "cell_type": "code",
   "execution_count": 22,
   "metadata": {},
   "outputs": [],
   "source": [
    "import arcpy\n",
    "import requests\n",
    "import os\n",
    "import zipfile\n",
    "import io"
   ]
  },
  {
   "cell_type": "markdown",
   "metadata": {},
   "source": [
    "## Creating a Working Folder"
   ]
  },
  {
   "cell_type": "code",
   "execution_count": 23,
   "metadata": {},
   "outputs": [],
   "source": [
    "DNR_working = r'C:\\Users\\tande\\Documents\\GIS5571\\GIS5571 Lab 2\\DNR'"
   ]
  },
  {
   "cell_type": "markdown",
   "metadata": {},
   "source": [
    "## Calling in Data"
   ]
  },
  {
   "cell_type": "code",
   "execution_count": 24,
   "metadata": {},
   "outputs": [],
   "source": [
    "mn_geo = r'https://resources.gisdata.mn.gov/pub/'"
   ]
  },
  {
   "cell_type": "code",
   "execution_count": 25,
   "metadata": {},
   "outputs": [],
   "source": [
    "#how do we know how to get this?\n",
    "las_file = r'https://resources.gisdata.mn.gov/pub/data/elevation/lidar/examples/lidar_sample/las/4342-12-05.las'"
   ]
  },
  {
   "cell_type": "code",
   "execution_count": 26,
   "metadata": {},
   "outputs": [],
   "source": [
    "las_file_obj = requests.post(las_file)"
   ]
  },
  {
   "cell_type": "code",
   "execution_count": 27,
   "metadata": {},
   "outputs": [],
   "source": [
    "las_content = las_file_obj.content"
   ]
  },
  {
   "cell_type": "code",
   "execution_count": 28,
   "metadata": {},
   "outputs": [],
   "source": [
    "path_to_las = os.path.join(DNR_working, 'outputlas.las')"
   ]
  },
  {
   "cell_type": "code",
   "execution_count": 29,
   "metadata": {},
   "outputs": [],
   "source": [
    "with open(path_to_las, 'wb') as f:\n",
    "    f.write(las_content)"
   ]
  },
  {
   "cell_type": "code",
   "execution_count": 30,
   "metadata": {},
   "outputs": [
    {
     "data": {
      "text/plain": [
       "'C:\\\\Users\\\\tande\\\\Documents\\\\GIS5571\\\\GIS5571 Lab 2\\\\DNR'"
      ]
     },
     "execution_count": 30,
     "metadata": {},
     "output_type": "execute_result"
    }
   ],
   "source": [
    "arcpy.env.workspace = DNR_working\n",
    "arcpy.env.workspace"
   ]
  },
  {
   "cell_type": "markdown",
   "metadata": {},
   "source": [
    "## Convering to a LAS Dataset"
   ]
  },
  {
   "cell_type": "code",
   "execution_count": 31,
   "metadata": {},
   "outputs": [
    {
     "data": {
      "text/html": [
       "<div class='gpresult'><h2>Messages</h2><div id='messages' data-messages='[\"Start Time: Monday, October 31, 2022 12:18:52 PM\",\"Succeeded at Monday, October 31, 2022 12:18:52 PM (Elapsed Time: 0.74 seconds)\"]' data-show='true'><div id = 'default' /></div></div>"
      ],
      "text/plain": [
       "<Result 'C:\\\\Users\\\\tande\\\\Documents\\\\GIS5571\\\\GIS5571 Lab 2\\\\DNR\\\\lasdatasetoutput.lasd'>"
      ]
     },
     "execution_count": 31,
     "metadata": {},
     "output_type": "execute_result"
    }
   ],
   "source": [
    "#Use CreateLasDataset\n",
    "arcpy.management.CreateLasDataset('outputlas.las', 'lasdatasetoutput.lasd')"
   ]
  },
  {
   "cell_type": "markdown",
   "metadata": {},
   "source": [
    "## Converting LAS to DEM"
   ]
  },
  {
   "cell_type": "code",
   "execution_count": 32,
   "metadata": {},
   "outputs": [
    {
     "ename": "ExecuteError",
     "evalue": "Failed to execute. Parameters are not valid.\nERROR 000725: Output Raster: Dataset c:\\Users\\tande\\documents\\ArcGIS\\Projects\\gis5571_lab2\\gis5571_lab2.gdb\\lasdat_lasda already exists.\nFailed to execute (LasDatasetToRaster).\n",
     "output_type": "error",
     "traceback": [
      "\u001b[0;31m---------------------------------------------------------------------------\u001b[0m\n\u001b[0;31mExecuteError\u001b[0m                              Traceback (most recent call last)",
      "In  \u001b[0;34m[32]\u001b[0m:\nLine \u001b[0;34m3\u001b[0m:     arcpy.conversion.LasDatasetToRaster(\u001b[33m\"\u001b[39;49;00m\u001b[33mlasdatasetoutput.lasd\u001b[39;49;00m\u001b[33m\"\u001b[39;49;00m, \u001b[33mr\u001b[39;49;00m\u001b[33m\"\u001b[39;49;00m\u001b[33mc:\u001b[39;49;00m\u001b[33m\\\u001b[39;49;00m\u001b[33musers\u001b[39;49;00m\u001b[33m\\\u001b[39;49;00m\u001b[33mtande\u001b[39;49;00m\u001b[33m\\\u001b[39;49;00m\u001b[33mdocuments\u001b[39;49;00m\u001b[33m\\\u001b[39;49;00m\u001b[33marcgis\u001b[39;49;00m\u001b[33m\\\u001b[39;49;00m\u001b[33mprojects\u001b[39;49;00m\u001b[33m\\\u001b[39;49;00m\u001b[33mgis5571_lab2\u001b[39;49;00m\u001b[33m\\\u001b[39;49;00m\u001b[33mgis5571_lab2.gdb\u001b[39;49;00m\u001b[33m\\\u001b[39;49;00m\u001b[33mlasdat_lasda\u001b[39;49;00m\u001b[33m\"\u001b[39;49;00m, \u001b[33m\"\u001b[39;49;00m\u001b[33mELEVATION\u001b[39;49;00m\u001b[33m\"\u001b[39;49;00m, \u001b[33m\"\u001b[39;49;00m\u001b[33mBINNING AVERAGE LINEAR\u001b[39;49;00m\u001b[33m\"\u001b[39;49;00m, \u001b[33m\"\u001b[39;49;00m\u001b[33mFLOAT\u001b[39;49;00m\u001b[33m\"\u001b[39;49;00m, \u001b[33m\"\u001b[39;49;00m\u001b[33mCELLSIZE\u001b[39;49;00m\u001b[33m\"\u001b[39;49;00m, \u001b[34m10\u001b[39;49;00m, \u001b[34m1\u001b[39;49;00m)\n",
      "File \u001b[0;34mC:\\Program Files\\ArcGIS\\Pro\\Resources\\ArcPy\\arcpy\\conversion.py\u001b[0m, in \u001b[0;32mLasDatasetToRaster\u001b[0m:\nLine \u001b[0;34m1650\u001b[0m:  \u001b[34mraise\u001b[39;49;00m e\n",
      "File \u001b[0;34mC:\\Program Files\\ArcGIS\\Pro\\Resources\\ArcPy\\arcpy\\conversion.py\u001b[0m, in \u001b[0;32mLasDatasetToRaster\u001b[0m:\nLine \u001b[0;34m1647\u001b[0m:  retval = convertArcObjectToPythonObject(gp.LasDatasetToRaster_conversion(*gp_fixargs((in_las_dataset, out_raster, value_field, interpolation_type, data_type, sampling_type, sampling_value, z_factor), \u001b[34mTrue\u001b[39;49;00m)))\n",
      "File \u001b[0;34mC:\\Program Files\\ArcGIS\\Pro\\Resources\\ArcPy\\arcpy\\geoprocessing\\_base.py\u001b[0m, in \u001b[0;32m<lambda>\u001b[0m:\nLine \u001b[0;34m512\u001b[0m:   \u001b[34mreturn\u001b[39;49;00m \u001b[34mlambda\u001b[39;49;00m *args: val(*gp_fixargs(args, \u001b[34mTrue\u001b[39;49;00m))\n",
      "\u001b[0;31mExecuteError\u001b[0m: Failed to execute. Parameters are not valid.\nERROR 000725: Output Raster: Dataset c:\\Users\\tande\\documents\\ArcGIS\\Projects\\gis5571_lab2\\gis5571_lab2.gdb\\lasdat_lasda already exists.\nFailed to execute (LasDatasetToRaster).\n\n\u001b[0;31m---------------------------------------------------------------------------\u001b[0m"
     ]
    }
   ],
   "source": [
    "#Converting LAS to Raster with Elevation\n",
    "\n",
    "arcpy.conversion.LasDatasetToRaster(\"lasdatasetoutput.lasd\", r\"c:\\users\\tande\\documents\\arcgis\\projects\\gis5571_lab2\\gis5571_lab2.gdb\\lasdat_lasda\", \"ELEVATION\", \"BINNING AVERAGE LINEAR\", \"FLOAT\", \"CELLSIZE\", 10, 1)"
   ]
  },
  {
   "cell_type": "code",
   "execution_count": 33,
   "metadata": {},
   "outputs": [
    {
     "data": {
      "text/html": [
       "<div class='gpresult'><h2>Messages</h2><div id='messages' data-messages='[\"Start Time: Monday, October 31, 2022 12:19:25 PM\",\"Successfully converted: lasdat_lasda To C:\\\\Users\\\\tande\\\\Documents\\\\GIS5571\\\\GIS5571 Lab 2\\\\DNR\\\\lasdat_lasda.tif\",\"Succeeded at Monday, October 31, 2022 12:19:26 PM (Elapsed Time: 1.00 seconds)\"]' data-show='true'><div id = 'default' /></div></div>"
      ],
      "text/plain": [
       "<Result ''>"
      ]
     },
     "execution_count": 33,
     "metadata": {},
     "output_type": "execute_result"
    }
   ],
   "source": [
    "#Saving to disk\n",
    "\n",
    "arcpy.conversion.RasterToOtherFormat(\"lasdat_lasda\", r\"C:\\Users\\tande\\Documents\\GIS5571\\GIS5571 Lab 2\\DNR\", \"TIFF\")"
   ]
  },
  {
   "cell_type": "markdown",
   "metadata": {},
   "source": [
    "## Convering LAS to TIN"
   ]
  },
  {
   "cell_type": "code",
   "execution_count": 34,
   "metadata": {},
   "outputs": [
    {
     "ename": "ExecuteError",
     "evalue": "Failed to execute. Parameters are not valid.\nERROR 000725: Output TIN: Dataset C:\\Users\\tande\\Documents\\ArcGIS\\Projects\\GIS5571_Lab2\\lasdatasetoutp_LasDatasetToT already exists.\nFailed to execute (LasDatasetToTin).\n",
     "output_type": "error",
     "traceback": [
      "\u001b[0;31m---------------------------------------------------------------------------\u001b[0m\n\u001b[0;31mExecuteError\u001b[0m                              Traceback (most recent call last)",
      "In  \u001b[0;34m[34]\u001b[0m:\nLine \u001b[0;34m3\u001b[0m:     arcpy.ddd.LasDatasetToTin(\u001b[33m\"\u001b[39;49;00m\u001b[33mlasdatasetoutput.lasd\u001b[39;49;00m\u001b[33m\"\u001b[39;49;00m, \u001b[33mr\u001b[39;49;00m\u001b[33m\"\u001b[39;49;00m\u001b[33mC:\u001b[39;49;00m\u001b[33m\\\u001b[39;49;00m\u001b[33mUsers\u001b[39;49;00m\u001b[33m\\\u001b[39;49;00m\u001b[33mtande\u001b[39;49;00m\u001b[33m\\\u001b[39;49;00m\u001b[33mDocuments\u001b[39;49;00m\u001b[33m\\\u001b[39;49;00m\u001b[33mArcGIS\u001b[39;49;00m\u001b[33m\\\u001b[39;49;00m\u001b[33mProjects\u001b[39;49;00m\u001b[33m\\\u001b[39;49;00m\u001b[33mGIS5571_Lab2\u001b[39;49;00m\u001b[33m\\\u001b[39;49;00m\u001b[33mlasdatasetoutp_LasDatasetToT\u001b[39;49;00m\u001b[33m\"\u001b[39;49;00m, \u001b[33m\"\u001b[39;49;00m\u001b[33mNONE\u001b[39;49;00m\u001b[33m\"\u001b[39;49;00m, \u001b[33m'\u001b[39;49;00m\u001b[33m'\u001b[39;49;00m, \u001b[34mNone\u001b[39;49;00m, \u001b[34m50000000\u001b[39;49;00m, \u001b[34m1\u001b[39;49;00m, \u001b[33m\"\u001b[39;49;00m\u001b[33mCLIP\u001b[39;49;00m\u001b[33m\"\u001b[39;49;00m)\n",
      "File \u001b[0;34mC:\\Program Files\\ArcGIS\\Pro\\Resources\\ArcPy\\arcpy\\ddd.py\u001b[0m, in \u001b[0;32mLasDatasetToTin\u001b[0m:\nLine \u001b[0;34m4054\u001b[0m:  \u001b[34mraise\u001b[39;49;00m e\n",
      "File \u001b[0;34mC:\\Program Files\\ArcGIS\\Pro\\Resources\\ArcPy\\arcpy\\ddd.py\u001b[0m, in \u001b[0;32mLasDatasetToTin\u001b[0m:\nLine \u001b[0;34m4051\u001b[0m:  retval = convertArcObjectToPythonObject(gp.LasDatasetToTin_3d(*gp_fixargs((in_las_dataset, out_tin, thinning_type, thinning_method, thinning_value, max_nodes, z_factor, clip_to_extent), \u001b[34mTrue\u001b[39;49;00m)))\n",
      "File \u001b[0;34mC:\\Program Files\\ArcGIS\\Pro\\Resources\\ArcPy\\arcpy\\geoprocessing\\_base.py\u001b[0m, in \u001b[0;32m<lambda>\u001b[0m:\nLine \u001b[0;34m512\u001b[0m:   \u001b[34mreturn\u001b[39;49;00m \u001b[34mlambda\u001b[39;49;00m *args: val(*gp_fixargs(args, \u001b[34mTrue\u001b[39;49;00m))\n",
      "\u001b[0;31mExecuteError\u001b[0m: Failed to execute. Parameters are not valid.\nERROR 000725: Output TIN: Dataset C:\\Users\\tande\\Documents\\ArcGIS\\Projects\\GIS5571_Lab2\\lasdatasetoutp_LasDatasetToT already exists.\nFailed to execute (LasDatasetToTin).\n\n\u001b[0;31m---------------------------------------------------------------------------\u001b[0m"
     ]
    }
   ],
   "source": [
    "# Converting to TIN\n",
    "\n",
    "arcpy.ddd.LasDatasetToTin(\"lasdatasetoutput.lasd\", r\"C:\\Users\\tande\\Documents\\ArcGIS\\Projects\\GIS5571_Lab2\\lasdatasetoutp_LasDatasetToT\", \"NONE\", '', None, 50000000, 1, \"CLIP\")"
   ]
  },
  {
   "cell_type": "code",
   "execution_count": 35,
   "metadata": {
    "scrolled": false
   },
   "outputs": [
    {
     "ename": "ExecuteError",
     "evalue": "Failed to execute. Parameters are not valid.\nERROR 000725: Output TIN Layer: Dataset outTIN already exists.\nFailed to execute (MakeTinLayer).\n",
     "output_type": "error",
     "traceback": [
      "\u001b[0;31m---------------------------------------------------------------------------\u001b[0m\n\u001b[0;31mExecuteError\u001b[0m                              Traceback (most recent call last)",
      "In  \u001b[0;34m[35]\u001b[0m:\nLine \u001b[0;34m3\u001b[0m:     arcpy.MakeTinLayer_management(\u001b[33m'\u001b[39;49;00m\u001b[33mlasdatasetoutp_LasDatasetToT\u001b[39;49;00m\u001b[33m'\u001b[39;49;00m, \u001b[33m'\u001b[39;49;00m\u001b[33moutTIN\u001b[39;49;00m\u001b[33m'\u001b[39;49;00m)\n",
      "File \u001b[0;34mC:\\Program Files\\ArcGIS\\Pro\\Resources\\ArcPy\\arcpy\\management.py\u001b[0m, in \u001b[0;32mMakeTinLayer\u001b[0m:\nLine \u001b[0;34m10562\u001b[0m: \u001b[34mraise\u001b[39;49;00m e\n",
      "File \u001b[0;34mC:\\Program Files\\ArcGIS\\Pro\\Resources\\ArcPy\\arcpy\\management.py\u001b[0m, in \u001b[0;32mMakeTinLayer\u001b[0m:\nLine \u001b[0;34m10559\u001b[0m: retval = convertArcObjectToPythonObject(gp.MakeTinLayer_management(*gp_fixargs((in_tin, out_layer), \u001b[34mTrue\u001b[39;49;00m)))\n",
      "File \u001b[0;34mC:\\Program Files\\ArcGIS\\Pro\\Resources\\ArcPy\\arcpy\\geoprocessing\\_base.py\u001b[0m, in \u001b[0;32m<lambda>\u001b[0m:\nLine \u001b[0;34m512\u001b[0m:   \u001b[34mreturn\u001b[39;49;00m \u001b[34mlambda\u001b[39;49;00m *args: val(*gp_fixargs(args, \u001b[34mTrue\u001b[39;49;00m))\n",
      "\u001b[0;31mExecuteError\u001b[0m: Failed to execute. Parameters are not valid.\nERROR 000725: Output TIN Layer: Dataset outTIN already exists.\nFailed to execute (MakeTinLayer).\n\n\u001b[0;31m---------------------------------------------------------------------------\u001b[0m"
     ]
    }
   ],
   "source": [
    "#Saving to disk\n",
    "\n",
    "arcpy.MakeTinLayer_management('lasdatasetoutp_LasDatasetToT', 'outTIN')"
   ]
  },
  {
   "cell_type": "markdown",
   "metadata": {},
   "source": [
    "## Exporting to PDF"
   ]
  },
  {
   "cell_type": "code",
   "execution_count": 41,
   "metadata": {},
   "outputs": [
    {
     "data": {
      "text/plain": [
       "'C:\\\\Users\\\\tande\\\\Documents\\\\GIS5571\\\\GIS5571 Lab 2\\\\DNR_LAS_PDF.pdf'"
      ]
     },
     "execution_count": 41,
     "metadata": {},
     "output_type": "execute_result"
    }
   ],
   "source": [
    "aprx = arcpy.mp.ArcGISProject(r'C:\\Users\\tande\\Documents\\ArcGIS\\Projects\\GIS5571_Lab2\\GIS5571_Lab2.aprx')\n",
    "lyt = aprx.listLayouts('L*')[0]\n",
    "lyt.exportToPDF(DNR_working + r'_LAS_PDF.pdf', resolution = 300)\n",
    "\n",
    "# Ref: https://pro.arcgis.com/en/pro-app/latest/arcpy/mapping/introduction-to-arcpy-mp.htm"
   ]
  }
 ],
 "metadata": {
  "kernelspec": {
   "display_name": "ArcGISPro",
   "language": "Python",
   "name": "python3"
  },
  "language_info": {
   "file_extension": ".py",
   "name": "python",
   "version": "3"
  }
 },
 "nbformat": 4,
 "nbformat_minor": 2
}
