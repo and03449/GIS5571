{
 "cells": [
  {
   "cell_type": "markdown",
   "metadata": {},
   "source": [
    "# Dory's Story"
   ]
  },
  {
   "cell_type": "markdown",
   "metadata": {},
   "source": [
    "## Import Packages"
   ]
  },
  {
   "cell_type": "code",
   "execution_count": 9,
   "metadata": {},
   "outputs": [],
   "source": [
    "import pandas as pd\n",
    "import zipfile\n",
    "import requests\n",
    "import io\n",
    "import arcpy"
   ]
  },
  {
   "cell_type": "markdown",
   "metadata": {},
   "source": [
    "## Set Working Folder"
   ]
  },
  {
   "cell_type": "code",
   "execution_count": 13,
   "metadata": {},
   "outputs": [],
   "source": [
    "dory_working = r\"C:\\Users\\tande\\Documents\\GIS5571\\GIS5571 Lab 2\\Dory\""
   ]
  },
  {
   "cell_type": "markdown",
   "metadata": {},
   "source": [
    "## Call in XY Coordinates"
   ]
  },
  {
   "cell_type": "code",
   "execution_count": 3,
   "metadata": {},
   "outputs": [],
   "source": [
    "startXY = pd.read_csv(r\"C:\\Users\\tande\\Documents\\GitHub\\GIS5571\\Lab 02\\Dory Farm XY.csv\")\n",
    "endXY = pd.read_csv(r\"C:\\Users\\tande\\Documents\\GitHub\\GIS5571\\Lab 02\\North Picnic XY.csv\")"
   ]
  },
  {
   "cell_type": "markdown",
   "metadata": {},
   "source": [
    "## Import Data "
   ]
  },
  {
   "cell_type": "code",
   "execution_count": 17,
   "metadata": {},
   "outputs": [],
   "source": [
    "# County boundaries\n",
    "county_url = 'https://resources.gisdata.mn.gov/pub/gdrs/data/pub/us_mn_state_dot/bdry_counties/shp_bdry_counties.zip'\n",
    "county_post_request = requests.post(county_url)\n",
    "county_post_request\n",
    "\n",
    "county_zipped = zipfile.ZipFile(\n",
    "        io.BytesIO(\n",
    "            county_post_request.content)\n",
    ")\n",
    "\n",
    "county_zipped.extractall(dory_working)\n",
    "\n",
    "# MN Landcover\n",
    "landcover_url = 'https://resources.gisdata.mn.gov/pub/gdrs/data/pub/us_mn_state_dnr/biota_landcover_nlcd_mn_2019/tif_biota_landcover_nlcd_mn_2019.zip'\n",
    "landcover_post_request = requests.post(landcover_url)\n",
    "landcover_post_request\n",
    "\n",
    "landcover_zipped = zipfile.ZipFile(\n",
    "        io.BytesIO(\n",
    "            landcover_post_request.content)\n",
    ")\n",
    "\n",
    "landcover_zipped.extractall(dory_working)\n",
    "\n",
    "# Water routes\n",
    "\n",
    "water_url = 'https://resources.gisdata.mn.gov/pub/gdrs/data/pub/us_mn_state_dnr/water_strahler_stream_order/shp_water_strahler_stream_order.zip'\n",
    "water_post_request = requests.post(water_url)\n",
    "water_post_request\n",
    "\n",
    "water_zipped = zipfile.ZipFile(\n",
    "        io.BytesIO(\n",
    "            water_post_request.content)\n",
    ")\n",
    "\n",
    "water_zipped.extractall(dory_working)\n",
    "\n",
    "# Elevation \n",
    "\n",
    "elevation_url = 'https://resources.gisdata.mn.gov/pub/gdrs/data/pub/us_mn_state_dnr/elev_30m_digital_elevation_model/fgdb_elev_30m_digital_elevation_model.zip'\n",
    "elevation_post_request = requests.post(elevation_url)\n",
    "elevation_post_request\n",
    "\n",
    "elevation_zipped = zipfile.ZipFile(\n",
    "        io.BytesIO(\n",
    "            elevation_post_request.content)\n",
    ")\n",
    "\n",
    "elevation_zipped.extractall(dory_working)\n",
    "\n",
    "roads_url = 'https://resources.gisdata.mn.gov/pub/gdrs/data/pub/us_mn_state_dot/trans_roads_mndot_tis/shp_trans_roads_mndot_tis.zip'\n",
    "roads_post_request = requests.post(roads_url)\n",
    "roads_post_request\n",
    "\n",
    "roads_zipped = zipfile.ZipFile(\n",
    "        io.BytesIO(\n",
    "            roads_post_request.content)\n",
    ")\n",
    "\n",
    "roads_zipped.extractall(dory_working)"
   ]
  },
  {
   "cell_type": "code",
   "execution_count": null,
   "metadata": {},
   "outputs": [],
   "source": [
    "# XY Coordinates to Points\n",
    "\n",
    "arcpy.management.XYTableToPoint(\"Dory Farm XY.csv\", r\"C:\\Users\\tande\\Documents\\GIS5571\\GIS5571 Lab 2\\Dory\\GIS5571_Lab2Part2\\GIS5571_Lab2Part2.gdb\\DoryFarmXY_XYTableToPoint\", \"X\", \"Y\", None, 'GEOGCS[\"GCS_WGS_1984\",DATUM[\"D_WGS_1984\",SPHEROID[\"WGS_1984\",6378137.0,298.257223563]],PRIMEM[\"Greenwich\",0.0],UNIT[\"Degree\",0.0174532925199433]];-400 -400 1000000000;-100000 10000;-100000 10000;8.98315284119521E-09;0.001;0.001;IsHighPrecision')\n",
    "arcpy.management.XYTableToPoint(\"North Picnic XY.csv\", r\"C:\\Users\\tande\\Documents\\GIS5571\\GIS5571 Lab 2\\Dory\\GIS5571_Lab2Part2\\GIS5571_Lab2Part2.gdb\\NorthPicnicXY_XYTableToPoint\", \"X\", \"Y\", None, 'GEOGCS[\"GCS_WGS_1984\",DATUM[\"D_WGS_1984\",SPHEROID[\"WGS_1984\",6378137.0,298.257223563]],PRIMEM[\"Greenwich\",0.0],UNIT[\"Degree\",0.0174532925199433]];-400 -400 1000000000;-100000 10000;-100000 10000;8.98315284119521E-09;0.001;0.001;IsHighPrecision')"
   ]
  },
  {
   "cell_type": "markdown",
   "metadata": {},
   "source": [
    "## Clipping to Extent"
   ]
  },
  {
   "cell_type": "code",
   "execution_count": 15,
   "metadata": {},
   "outputs": [
    {
     "data": {
      "text/html": [
       "<div class='gpresult'><h2>Messages</h2><div id='messages' data-messages='[\"Start Time: Wednesday, November 2, 2022 12:39:44 PM\",\"Clipping input features...\",\"Succeeded at Wednesday, November 2, 2022 12:39:44 PM (Elapsed Time: 0.27 seconds)\"]' data-show='true'><div id = 'default' /></div></div>"
      ],
      "text/plain": [
       "<Result 'C:\\\\Users\\\\tande\\\\Documents\\\\GIS5571\\\\GIS5571 Lab 2\\\\Dory\\\\GIS5571_Lab2Part2\\\\GIS5571_Lab2Part2.gdb\\\\Selected_County_Boundaries'>"
      ]
     },
     "execution_count": 15,
     "metadata": {},
     "output_type": "execute_result"
    }
   ],
   "source": [
    "# The extent I am using are the 3 counties surrounding the points: Olmstead, Winona, and Wabasha\n",
    "\n",
    "# Selecting this extent\n",
    "arcpy.management.SelectLayerByAttribute(\"County_Boundaries_in_Minnesota\", \"NEW_SELECTION\", \"COUNTY_NAM = 'Wabasha' And COUNTY_NAM = 'Olmsted' And COUNTY_NAM = 'Winona'\", None)\n",
    "\n",
    "# Clipping the boundaries to the selected boundaries\n",
    "arcpy.analysis.PairwiseClip(\"County_Boundaries_in_Minnesota\", \"County_Boundaries_in_Minnesota\", r\"C:\\Users\\tande\\Documents\\GIS5571\\GIS5571 Lab 2\\Dory\\GIS5571_Lab2Part2\\GIS5571_Lab2Part2.gdb\\Selected_County_Boundaries\", None)\n",
    "\n",
    "# Clipping streams to selected boundaries\n",
    "arcpy.analysis.PairwiseClip(\"streams_with_strahler_stream_order\", \"Selected_County_Boundaries\", r\"C:\\Users\\tande\\Documents\\GIS5571\\GIS5571 Lab 2\\Dory\\GIS5571_Lab2Part2\\GIS5571_Lab2Part2.gdb\\streams_with_st_PairwiseClip\", None)\n",
    "\n",
    "# Clipping DEM\n",
    "arcpy.management.Clip(\"digital_elevation_model_30m\", \"524956.361 4853464.52 637943.77 4922616.7\", r\"C:\\Users\\tande\\Documents\\GIS5571\\GIS5571 Lab 2\\Dory\\GIS5571_Lab2Part2\\GIS5571_Lab2Part2.gdb\\digital_elevation_model_Clip\", \"Selected_County_Boundaries\", \"32767\", \"NONE\", \"NO_MAINTAIN_EXTENT\")\n",
    "\n",
    "# Clipping Land Cover\n",
    "arcpy.management.Clip(\"NLCD 2019 - Land Cover\", \"524956.361 4853464.52 637943.77 4922616.7\", r\"C:\\Users\\tande\\Documents\\GIS5571\\GIS5571 Lab 2\\Dory\\GIS5571_Lab2Part2\\GIS5571_Lab2Part2.gdb\\LandcoverRaster_Clip\", \"Selected_County_Boundaries\", \"255\", \"NONE\", \"NO_MAINTAIN_EXTENT\")\n",
    "\n",
    "# Clipping roads\n",
    "arcpy.analysis.PairwiseClip(\"STREETS_LOAD\", \"Selected_County_Boundaries\", r\"C:\\Users\\tande\\Documents\\GIS5571\\GIS5571 Lab 2\\Dory\\GIS5571_Lab2Part2\\GIS5571_Lab2Part2.gdb\\STREETS_LOAD_PairwiseClip\", None)"
   ]
  },
  {
   "cell_type": "markdown",
   "metadata": {},
   "source": [
    "## Preparing Each Clipped Dataset for Raster Calculator"
   ]
  },
  {
   "cell_type": "code",
   "execution_count": null,
   "metadata": {},
   "outputs": [],
   "source": [
    "# Reclassifying Ref https://pro.arcgis.com/en/pro-app/latest/tool-reference/spatial-analyst/creating-a-cost-surface-raster.htm\n",
    "\n",
    "# For commonalities in rasters - using 9 classifications and Red-Yellow-Green continuous symbology \n",
    "\n",
    "# I don't think symbology matters but just doing this for good measure"
   ]
  },
  {
   "cell_type": "markdown",
   "metadata": {},
   "source": [
    "### County Boundaries"
   ]
  },
  {
   "cell_type": "code",
   "execution_count": null,
   "metadata": {},
   "outputs": [],
   "source": [
    "# Only used for clipping the extent"
   ]
  },
  {
   "cell_type": "markdown",
   "metadata": {},
   "source": [
    "### Road Network"
   ]
  },
  {
   "cell_type": "code",
   "execution_count": null,
   "metadata": {},
   "outputs": [],
   "source": [
    "# Create a 100m buffer around all roads in the extent\n",
    "\n",
    "arcpy.analysis.Buffer(\"STREETS_LOAD_PairwiseClip\", r\"C:\\Users\\tande\\Documents\\GIS5571\\GIS5571 Lab 2\\Dory\\GIS5571_Lab2Part2\\GIS5571_Lab2Part2.gdb\\STREETS_LOAD_Pairwise_Buffer\", \"100 Meters\", \"FULL\", \"ROUND\", \"NONE\", None, \"PLANAR\")arcpy.analysis.Buffer(\"STREETS_LOAD_PairwiseClip\", r\"C:\\Users\\tande\\Documents\\GIS5571\\GIS5571 Lab 2\\Dory\\GIS5571_Lab2Part2\\GIS5571_Lab2Part2.gdb\\STREETS_LOAD_Pairwise_Buffer\", \"100 Meters\", \"FULL\", \"ROUND\", \"NONE\", None, \"PLANAR\")\n",
    "\n",
    "# Convert to raster\n",
    "\n",
    "arcpy.conversion.FeatureToRaster(\"STREETS_LOAD_Pairwise_Buffer\", \"STREET_NAM\", r\"C:\\Users\\tande\\Documents\\GIS5571\\GIS5571 Lab 2\\Dory\\GIS5571_Lab2Part2\\GIS5571_Lab2Part2.gdb\\Feature_STRE1\", r\"C:\\Users\\tande\\Documents\\GIS5571\\GIS5571 Lab 2\\Dory\\GIS5571_Lab2Part2\\GIS5571_Lab2Part2.gdb\\digital_elevation_model_Clip\")\n",
    "\n",
    "# Reclassify to 9 classes\n",
    "\n",
    "out_raster = arcpy.sa.Reclassify(\"Feature_STRE1\", \"Value\", \"1 452.333333 1;452.333333 903.666667 2;903.666667 1355 3;1355 1806.333333 4;1806.333333 2257.666667 5;2257.666667 2709 6;2709 3160.333333 7;3160.333333 3611.666667 8;3611.666667 4063 9\", \"NODATA\"); out_raster.save(r\"C:\\Users\\tande\\Documents\\GIS5571\\GIS5571 Lab 2\\Dory\\GIS5571_Lab2Part2\\GIS5571_Lab2Part2.gdb\\Reclass_Feat2\")\n",
    "\n",
    "# Ready for Cost Surface\n",
    "\n",
    "# Final raster name 'Reclass_Feat2'"
   ]
  },
  {
   "cell_type": "markdown",
   "metadata": {},
   "source": [
    "### Streams"
   ]
  },
  {
   "cell_type": "code",
   "execution_count": null,
   "metadata": {},
   "outputs": [],
   "source": [
    "# Create a 100m buffer around all streams in the extent\n",
    "\n",
    "arcpy.analysis.PairwiseBuffer(r\"C:\\Users\\tande\\Documents\\GIS5571\\GIS5571 Lab 2\\Dory\\GIS5571_Lab2Part2\\GIS5571_Lab2Part2.gdb\\streams_with_st_PairwiseClip\", r\"C:\\Users\\tande\\Documents\\GIS5571\\GIS5571 Lab 2\\Dory\\GIS5571_Lab2Part2\\GIS5571_Lab2Part2.gdb\\streams_with_s_PairwiseBuffe\", \"100 Meters\", \"NONE\", None, \"PLANAR\", \"0 Meters\")\n",
    "\n",
    "# Finding where rivers and roads intersect\n",
    "\n",
    "arcpy.analysis.PairwiseIntersect(\"STREETS_LOAD_Pairwise_Buffer;streams_with_s_PairwiseBuffe\", r\"C:\\Users\\tande\\Documents\\GIS5571\\GIS5571 Lab 2\\Dory\\GIS5571_Lab2Part2\\GIS5571_Lab2Part2.gdb\\STREETS_STREAMS_INTERSECT\", \"ALL\", None, \"INPUT\")\n",
    "\n",
    "# Erasing rivers where roads overlap\n",
    "\n",
    "arcpy.analysis.PairwiseErase(\"STREETS_STREAMS_INTERSECT\", r\"C:\\Users\\tande\\Documents\\GIS5571\\GIS5571 Lab 2\\Dory\\GIS5571_Lab2Part2\\GIS5571_Lab2Part2.gdb\\streams_with_s_PairwiseBuffe\", r\"C:\\Users\\tande\\Documents\\GIS5571\\GIS5571 Lab 2\\Dory\\GIS5571_Lab2Part2\\GIS5571_Lab2Part2.gdb\\STREETS_STREAM_PairwiseErase\", None)\n",
    "\n",
    "# Converting to raster\n",
    "\n",
    "arcpy.conversion.FeatureToRaster(\"streams_with_s_PairwiseBuffe\", \"SO_VALUE\", r\"C:\\Users\\tande\\Documents\\GIS5571\\GIS5571 Lab 2\\Dory\\GIS5571_Lab2Part2\\GIS5571_Lab2Part2.gdb\\Stream_Raster\", r\"C:\\Users\\tande\\Documents\\GIS5571\\GIS5571 Lab 2\\Dory\\GIS5571_Lab2Part2\\GIS5571_Lab2Part2.gdb\\digital_elevation_model_Clip\")\n",
    "\n",
    "# Reclassify the raster\n",
    "\n",
    "out_raster = arcpy.sa.Reclassify(\"Stream_Raster\", \"Value\", \"1 1;2 2;3 3;4 4;5 5;6 6;8 7\", \"NODATA\"); out_raster.save(r\"C:\\Users\\tande\\Documents\\GIS5571\\GIS5571 Lab 2\\Dory\\GIS5571_Lab2Part2\\GIS5571_Lab2Part2.gdb\\Reclass_Stre3\")\n",
    "\n",
    "# Raster calculator to eliminate null values\n",
    "\n",
    "output_raster = arcpy.ia.RasterCalculator('Con(IsNull(\"Reclass_Stre3\"),1, \"Reclass_Stre3\")'); output_raster.save(r\"c:\\users\\tande\\documents\\gis5571\\gis5571 lab 2\\dory\\gis5571_lab2part2\\gis5571_lab2part2.gdb\\t_coni_raste\")\n",
    "\n",
    "# Ready for Cost Surface\n",
    "\n",
    "# Final raster name 't_coni_raste'"
   ]
  },
  {
   "cell_type": "markdown",
   "metadata": {},
   "source": [
    "### Elevation"
   ]
  },
  {
   "cell_type": "code",
   "execution_count": null,
   "metadata": {},
   "outputs": [],
   "source": [
    "# Calculate Slope\n",
    "\n",
    "out_raster = arcpy.sa.Slope(\"digital_elevation_model_Clip\", \"DEGREE\", 1, \"PLANAR\", \"METER\"); out_raster.save(r\"C:\\Users\\tande\\Documents\\GIS5571\\GIS5571 Lab 2\\Dory\\GIS5571_Lab2Part2\\GIS5571_Lab2Part2.gdb\\Slope_digita1\")\n",
    "\n",
    "# Reclassify\n",
    "\n",
    "out_raster = arcpy.sa.Reclassify(\"Slope_digita1\", \"Value\", \"0 4.669600 1;4.669600 9.961813 2;9.961813 16.187945 3;16.187945 23.347998 4;23.347998 31.441971 5;31.441971 39.847250 6;39.847250 48.252530 7;48.252530 56.346502 8;56.346502 79.383194 9\", \"NODATA\"); out_raster.save(r\"C:\\Users\\tande\\Documents\\GIS5571\\GIS5571 Lab 2\\Dory\\GIS5571_Lab2Part2\\GIS5571_Lab2Part2.gdb\\Reclass_Slop1\")\n",
    "\n",
    "# Ready for Cost Surface\n",
    "\n",
    "# Final raster name 'Reclass_Slop1'"
   ]
  },
  {
   "cell_type": "markdown",
   "metadata": {},
   "source": [
    "### Land Cover"
   ]
  },
  {
   "cell_type": "code",
   "execution_count": null,
   "metadata": {},
   "outputs": [],
   "source": [
    "# Reclassify \n",
    "\n",
    "out_raster = arcpy.sa.Reclassify(\"LandcoverRaster_Clip\", \"Value\", \"11 1;21 2;22 3;23 4;24 5;31 6;41 7;42 8;43 9;52 10;71 11;81 12;82 13;90 14;95 15\", \"NODATA\"); out_raster.save(r\"C:\\Users\\tande\\Documents\\GIS5571\\GIS5571 Lab 2\\Dory\\GIS5571_Lab2Part2\\GIS5571_Lab2Part2.gdb\\Reclass_Land1\")\n",
    "\n",
    "# Ready for Cost Surface\n",
    "\n",
    "# Final raster name 'Reclass_Land1'"
   ]
  },
  {
   "cell_type": "markdown",
   "metadata": {},
   "source": [
    "## Cost Surface Analysis"
   ]
  },
  {
   "cell_type": "code",
   "execution_count": null,
   "metadata": {},
   "outputs": [],
   "source": [
    "# Use Raster Calculator to Combine All Rasters\n",
    "\n",
    "output_raster = arcpy.ia.RasterCalculator(' \"Reclass_Feat2\" +  \"t_coni_raste\" +  \"Reclass_Slop1\" +  \"Reclass_Land1\"'); output_raster.save(r\"c:\\Users\\tande\\documents\\GIS5571\\gis5571 lab 2\\Dory\\gis5571_lab2part2\\gis5571_lab2part2.gdb\\complete_raster\")\n",
    "\n",
    "# Weighted Overlay to try out different weights\n",
    "\n",
    "## 25% weight for each raster\n",
    "\n",
    "out_raster = arcpy.sa.WeightedOverlay(r\"('C:\\Users\\tande\\Documents\\GIS5571\\GIS5571 Lab 2\\Dory\\GIS5571_Lab2Part2\\GIS5571_Lab2Part2.gdb\\Reclass_Feat2' 25 'Value' (1 1; 2 2; 3 3; 4 4; 5 5; 6 6; 7 7; 8 8; 9 9; NODATA NODATA); 'C:\\Users\\tande\\Documents\\GIS5571\\GIS5571 Lab 2\\Dory\\GIS5571_Lab2Part2\\GIS5571_Lab2Part2.gdb\\t_coni_raste' 25 'Value' (1 1; 2 2; 3 3; 4 4; 5 5; 6 6; 7 7; NODATA NODATA); 'C:\\Users\\tande\\Documents\\GIS5571\\GIS5571 Lab 2\\Dory\\GIS5571_Lab2Part2\\GIS5571_Lab2Part2.gdb\\Reclass_Slop1' 25 'Value' (1 1; 2 2; 3 3; 4 4; 5 5; 6 6; 7 7; 8 8; 9 9; NODATA NODATA); 'C:\\Users\\tande\\Documents\\GIS5571\\GIS5571 Lab 2\\Dory\\GIS5571_Lab2Part2\\GIS5571_Lab2Part2.gdb\\Reclass_Land1' 25 'Value' (1 1; 2 2; 3 3; 4 4; 5 5; 6 6; 7 7; 8 8; 9 9; 10 1; 11 1; 12 1; 13 1; 14 1; 15 1; NODATA NODATA));1 9 1\"); out_raster.save(r\"C:\\Users\\tande\\Documents\\GIS5571\\GIS5571 Lab 2\\Dory\\GIS5571_Lab2Part2\\GIS5571_Lab2Part2.gdb\\Weighte_Recl2\")\n",
    "\n",
    "## 10% Roads, 10% Streams, 40% Elevation, 40% Land Cover\n",
    "\n",
    "out_raster = arcpy.sa.WeightedOverlay(r\"('C:\\Users\\tande\\Documents\\GIS5571\\GIS5571 Lab 2\\Dory\\GIS5571_Lab2Part2\\GIS5571_Lab2Part2.gdb\\Reclass_Feat2' 10 'Value' (1 1; 2 2; 3 3; 4 4; 5 5; 6 6; 7 7; 8 8; 9 9; NODATA NODATA); 'C:\\Users\\tande\\Documents\\GIS5571\\GIS5571 Lab 2\\Dory\\GIS5571_Lab2Part2\\GIS5571_Lab2Part2.gdb\\t_coni_raste' 10 'Value' (1 1; 2 2; 3 3; 4 4; 5 5; 6 6; 7 7; NODATA NODATA); 'C:\\Users\\tande\\Documents\\GIS5571\\GIS5571 Lab 2\\Dory\\GIS5571_Lab2Part2\\GIS5571_Lab2Part2.gdb\\Reclass_Slop1' 40 'Value' (1 1; 2 2; 3 3; 4 4; 5 5; 6 6; 7 7; 8 8; 9 9; NODATA NODATA); 'C:\\Users\\tande\\Documents\\GIS5571\\GIS5571 Lab 2\\Dory\\GIS5571_Lab2Part2\\GIS5571_Lab2Part2.gdb\\Reclass_Land1' 40 'Value' (1 1; 2 2; 3 3; 4 4; 5 5; 6 6; 7 7; 8 8; 9 9; 10 1; 11 1; 12 1; 13 1; 14 1; 15 1; NODATA NODATA));1 9 1\"); out_raster.save(r\"C:\\Users\\tande\\Documents\\GIS5571\\GIS5571 Lab 2\\Dory\\GIS5571_Lab2Part2\\GIS5571_Lab2Part2.gdb\\Weighte_Recl2\")\n",
    "\n",
    "## 40% Roads, 40% Streams, 10% Elevation, 10% Land Cover\n",
    "\n",
    "out_raster = arcpy.sa.WeightedOverlay(r\"('C:\\Users\\tande\\Documents\\GIS5571\\GIS5571 Lab 2\\Dory\\GIS5571_Lab2Part2\\GIS5571_Lab2Part2.gdb\\Reclass_Feat2' 40 'Value' (1 1; 2 2; 3 3; 4 4; 5 5; 6 6; 7 7; 8 8; 9 9; NODATA NODATA); 'C:\\Users\\tande\\Documents\\GIS5571\\GIS5571 Lab 2\\Dory\\GIS5571_Lab2Part2\\GIS5571_Lab2Part2.gdb\\t_coni_raste' 40 'Value' (1 1; 2 2; 3 3; 4 4; 5 5; 6 6; 7 7; NODATA NODATA); 'C:\\Users\\tande\\Documents\\GIS5571\\GIS5571 Lab 2\\Dory\\GIS5571_Lab2Part2\\GIS5571_Lab2Part2.gdb\\Reclass_Slop1' 10 'Value' (1 1; 2 2; 3 3; 4 4; 5 5; 6 6; 7 7; 8 8; 9 9; NODATA NODATA); 'C:\\Users\\tande\\Documents\\GIS5571\\GIS5571 Lab 2\\Dory\\GIS5571_Lab2Part2\\GIS5571_Lab2Part2.gdb\\Reclass_Land1' 10 'Value' (1 1; 2 2; 3 3; 4 4; 5 5; 6 6; 7 7; 8 8; 9 9; 10 1; 11 1; 12 1; 13 1; 14 1; 15 1; NODATA NODATA));1 9 1\"); out_raster.save(r\"C:\\Users\\tande\\Documents\\GIS5571\\GIS5571 Lab 2\\Dory\\GIS5571_Lab2Part2\\GIS5571_Lab2Part2.gdb\\Weighte_Recl2\")\n",
    "\n",
    "## %10 Roads, 40% Streams, 10% Elevation, 40% Land Cover\n",
    "\n",
    "out_raster = arcpy.sa.WeightedOverlay(r\"('C:\\Users\\tande\\Documents\\GIS5571\\GIS5571 Lab 2\\Dory\\GIS5571_Lab2Part2\\GIS5571_Lab2Part2.gdb\\Reclass_Feat2' 10 'Value' (1 1; 2 2; 3 3; 4 4; 5 5; 6 6; 7 7; 8 8; 9 9; NODATA NODATA); 'C:\\Users\\tande\\Documents\\GIS5571\\GIS5571 Lab 2\\Dory\\GIS5571_Lab2Part2\\GIS5571_Lab2Part2.gdb\\t_coni_raste' 40 'Value' (1 1; 2 2; 3 3; 4 4; 5 5; 6 6; 7 7; NODATA NODATA); 'C:\\Users\\tande\\Documents\\GIS5571\\GIS5571 Lab 2\\Dory\\GIS5571_Lab2Part2\\GIS5571_Lab2Part2.gdb\\Reclass_Slop1' 10 'Value' (1 1; 2 2; 3 3; 4 4; 5 5; 6 6; 7 7; 8 8; 9 9; NODATA NODATA); 'C:\\Users\\tande\\Documents\\GIS5571\\GIS5571 Lab 2\\Dory\\GIS5571_Lab2Part2\\GIS5571_Lab2Part2.gdb\\Reclass_Land1' 40 'Value' (1 1; 2 2; 3 3; 4 4; 5 5; 6 6; 7 7; 8 8; 9 9; 10 1; 11 1; 12 1; 13 1; 14 1; 15 1; NODATA NODATA));1 9 1\"); out_raster.save(r\"C:\\Users\\tande\\Documents\\GIS5571\\GIS5571 Lab 2\\Dory\\GIS5571_Lab2Part2\\GIS5571_Lab2Part2.gdb\\Weighte_Recl2\")\n",
    "\n",
    "## 40% Roads, 10% Streams, 40% Elevation, 10% Land Cover\n",
    "\n",
    "out_raster = arcpy.sa.WeightedOverlay(r\"('C:\\Users\\tande\\Documents\\GIS5571\\GIS5571 Lab 2\\Dory\\GIS5571_Lab2Part2\\GIS5571_Lab2Part2.gdb\\Reclass_Feat2' 40 'Value' (1 1; 2 2; 3 3; 4 4; 5 5; 6 6; 7 7; 8 8; 9 9; NODATA NODATA); 'C:\\Users\\tande\\Documents\\GIS5571\\GIS5571 Lab 2\\Dory\\GIS5571_Lab2Part2\\GIS5571_Lab2Part2.gdb\\t_coni_raste' 10 'Value' (1 1; 2 2; 3 3; 4 4; 5 5; 6 6; 7 7; NODATA NODATA); 'C:\\Users\\tande\\Documents\\GIS5571\\GIS5571 Lab 2\\Dory\\GIS5571_Lab2Part2\\GIS5571_Lab2Part2.gdb\\Reclass_Slop1' 40 'Value' (1 1; 2 2; 3 3; 4 4; 5 5; 6 6; 7 7; 8 8; 9 9; NODATA NODATA); 'C:\\Users\\tande\\Documents\\GIS5571\\GIS5571 Lab 2\\Dory\\GIS5571_Lab2Part2\\GIS5571_Lab2Part2.gdb\\Reclass_Land1' 10 'Value' (1 1; 2 2; 3 3; 4 4; 5 5; 6 6; 7 7; 8 8; 9 9; 10 1; 11 1; 12 1; 13 1; 14 1; 15 1; NODATA NODATA));1 9 1\"); out_raster.save(r\"C:\\Users\\tande\\Documents\\GIS5571\\GIS5571 Lab 2\\Dory\\GIS5571_Lab2Part2\\GIS5571_Lab2Part2.gdb\\Weighte_Recl2\")\n",
    "\n",
    "# I heard from others that we are supposed to\n",
    "#actually find the best path from pt A to pt B\n",
    "#but I wasn't able to do this so I am just showing the \n",
    "# different weights"
   ]
  }
 ],
 "metadata": {
  "kernelspec": {
   "display_name": "ArcGISPro",
   "language": "Python",
   "name": "python3"
  },
  "language_info": {
   "file_extension": ".py",
   "name": "python",
   "version": "3"
  }
 },
 "nbformat": 4,
 "nbformat_minor": 2
}
