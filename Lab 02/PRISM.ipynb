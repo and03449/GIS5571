{
 "cells": [
  {
   "cell_type": "markdown",
   "metadata": {},
   "source": [
    "# BIL ETL - PRISM"
   ]
  },
  {
   "cell_type": "markdown",
   "metadata": {},
   "source": [
    "## Importing Packages"
   ]
  },
  {
   "cell_type": "code",
   "execution_count": 42,
   "metadata": {},
   "outputs": [],
   "source": [
    "import arcpy\n",
    "import requests\n",
    "import os\n",
    "import zipfile\n",
    "import io"
   ]
  },
  {
   "cell_type": "markdown",
   "metadata": {},
   "source": [
    "## Creating a Working Folder"
   ]
  },
  {
   "cell_type": "code",
   "execution_count": 43,
   "metadata": {},
   "outputs": [],
   "source": [
    "Prism_working = r'C:\\Users\\tande\\Documents\\GIS5571\\GIS5571 Lab 2\\PRISM'"
   ]
  },
  {
   "cell_type": "code",
   "execution_count": 44,
   "metadata": {},
   "outputs": [
    {
     "data": {
      "text/plain": [
       "'C:\\\\Users\\\\tande\\\\Documents\\\\GIS5571\\\\GIS5571 Lab 2\\\\PRISM'"
      ]
     },
     "execution_count": 44,
     "metadata": {},
     "output_type": "execute_result"
    }
   ],
   "source": [
    "arcpy.env.workspace = Prism_working\n",
    "arcpy.env.workspace"
   ]
  },
  {
   "cell_type": "markdown",
   "metadata": {},
   "source": [
    "## Calling in Data"
   ]
  },
  {
   "cell_type": "code",
   "execution_count": 45,
   "metadata": {},
   "outputs": [],
   "source": [
    "Prism_base = r'https://prism.oregonstate.edu/fetchData.php'\n",
    "Prism_params = r'type=all_bil&kind=normals&spatial=4km&elem=ppt&temporal=annual'\n",
    "Prism_path = Prism_base + '?' + Prism_params"
   ]
  },
  {
   "cell_type": "code",
   "execution_count": 46,
   "metadata": {},
   "outputs": [
    {
     "data": {
      "text/plain": [
       "<Response [200]>"
      ]
     },
     "execution_count": 46,
     "metadata": {},
     "output_type": "execute_result"
    }
   ],
   "source": [
    "Prism_post_request = requests.post(Prism_path)\n",
    "Prism_post_request"
   ]
  },
  {
   "cell_type": "code",
   "execution_count": 47,
   "metadata": {},
   "outputs": [],
   "source": [
    "Prism_zipped = zipfile.ZipFile(\n",
    "        io.BytesIO(\n",
    "            Prism_post_request.content)\n",
    ")"
   ]
  },
  {
   "cell_type": "code",
   "execution_count": 48,
   "metadata": {},
   "outputs": [],
   "source": [
    "Prism_zipped.extractall(Prism_working)"
   ]
  },
  {
   "cell_type": "markdown",
   "metadata": {},
   "source": [
    "## Create a Space Time Cube"
   ]
  },
  {
   "cell_type": "code",
   "execution_count": 49,
   "metadata": {},
   "outputs": [],
   "source": [
    "# Ref https://www.esri.com/arcgis-blog/products/arcgis-pro/analytics/explore-your-raster-data-with-space-time-pattern-mining/"
   ]
  },
  {
   "cell_type": "code",
   "execution_count": 50,
   "metadata": {},
   "outputs": [
    {
     "ename": "ExecuteError",
     "evalue": "ERROR 000258: Output C:\\Users\\tande\\Documents\\ArcGIS\\Projects\\GIS5571_Lab2\\GIS5571_Lab2.gdb\\Prism_Raster_Mosaic already exists\nFailed to execute (CreateMosaicDataset).\n",
     "output_type": "error",
     "traceback": [
      "\u001b[0;31m---------------------------------------------------------------------------\u001b[0m\n\u001b[0;31mExecuteError\u001b[0m                              Traceback (most recent call last)",
      "In  \u001b[0;34m[50]\u001b[0m:\nLine \u001b[0;34m2\u001b[0m:     arcpy.management.CreateMosaicDataset(\u001b[33mr\u001b[39;49;00m\u001b[33m\"\u001b[39;49;00m\u001b[33mC:\u001b[39;49;00m\u001b[33m\\\u001b[39;49;00m\u001b[33mUsers\u001b[39;49;00m\u001b[33m\\\u001b[39;49;00m\u001b[33mtande\u001b[39;49;00m\u001b[33m\\\u001b[39;49;00m\u001b[33mDocuments\u001b[39;49;00m\u001b[33m\\\u001b[39;49;00m\u001b[33mArcGIS\u001b[39;49;00m\u001b[33m\\\u001b[39;49;00m\u001b[33mProjects\u001b[39;49;00m\u001b[33m\\\u001b[39;49;00m\u001b[33mGIS5571_Lab2\u001b[39;49;00m\u001b[33m\\\u001b[39;49;00m\u001b[33mGIS5571_Lab2.gdb\u001b[39;49;00m\u001b[33m\"\u001b[39;49;00m, \u001b[33m\"\u001b[39;49;00m\u001b[33mPrism_Raster_Mosaic\u001b[39;49;00m\u001b[33m\"\u001b[39;49;00m, \u001b[33m'\u001b[39;49;00m\u001b[33mGEOGCS[\u001b[39;49;00m\u001b[33m\"\u001b[39;49;00m\u001b[33mGCS_North_American_1983\u001b[39;49;00m\u001b[33m\"\u001b[39;49;00m\u001b[33m,DATUM[\u001b[39;49;00m\u001b[33m\"\u001b[39;49;00m\u001b[33mD_North_American_1983\u001b[39;49;00m\u001b[33m\"\u001b[39;49;00m\u001b[33m,SPHEROID[\u001b[39;49;00m\u001b[33m\"\u001b[39;49;00m\u001b[33mGRS_1980\u001b[39;49;00m\u001b[33m\"\u001b[39;49;00m\u001b[33m,6378137.0,298.257222101]],PRIMEM[\u001b[39;49;00m\u001b[33m\"\u001b[39;49;00m\u001b[33mGreenwich\u001b[39;49;00m\u001b[33m\"\u001b[39;49;00m\u001b[33m,0.0],UNIT[\u001b[39;49;00m\u001b[33m\"\u001b[39;49;00m\u001b[33mDegree\u001b[39;49;00m\u001b[33m\"\u001b[39;49;00m\u001b[33m,0.0174532925199433]]\u001b[39;49;00m\u001b[33m'\u001b[39;49;00m, \u001b[34mNone\u001b[39;49;00m, \u001b[33m'\u001b[39;49;00m\u001b[33m'\u001b[39;49;00m, \u001b[33m\"\u001b[39;49;00m\u001b[33mNONE\u001b[39;49;00m\u001b[33m\"\u001b[39;49;00m, \u001b[34mNone\u001b[39;49;00m)\n",
      "File \u001b[0;34mC:\\Program Files\\ArcGIS\\Pro\\Resources\\ArcPy\\arcpy\\management.py\u001b[0m, in \u001b[0;32mCreateMosaicDataset\u001b[0m:\nLine \u001b[0;34m16031\u001b[0m: \u001b[34mraise\u001b[39;49;00m e\n",
      "File \u001b[0;34mC:\\Program Files\\ArcGIS\\Pro\\Resources\\ArcPy\\arcpy\\management.py\u001b[0m, in \u001b[0;32mCreateMosaicDataset\u001b[0m:\nLine \u001b[0;34m16028\u001b[0m: retval = convertArcObjectToPythonObject(gp.CreateMosaicDataset_management(*gp_fixargs((in_workspace, in_mosaicdataset_name, coordinate_system, num_bands, pixel_type, product_definition, product_band_definitions), \u001b[34mTrue\u001b[39;49;00m)))\n",
      "File \u001b[0;34mC:\\Program Files\\ArcGIS\\Pro\\Resources\\ArcPy\\arcpy\\geoprocessing\\_base.py\u001b[0m, in \u001b[0;32m<lambda>\u001b[0m:\nLine \u001b[0;34m512\u001b[0m:   \u001b[34mreturn\u001b[39;49;00m \u001b[34mlambda\u001b[39;49;00m *args: val(*gp_fixargs(args, \u001b[34mTrue\u001b[39;49;00m))\n",
      "\u001b[0;31mExecuteError\u001b[0m: ERROR 000258: Output C:\\Users\\tande\\Documents\\ArcGIS\\Projects\\GIS5571_Lab2\\GIS5571_Lab2.gdb\\Prism_Raster_Mosaic already exists\nFailed to execute (CreateMosaicDataset).\n\n\u001b[0;31m---------------------------------------------------------------------------\u001b[0m"
     ]
    }
   ],
   "source": [
    "#Create a mosaic to combine multiple rasters\n",
    "arcpy.management.CreateMosaicDataset(r\"C:\\Users\\tande\\Documents\\ArcGIS\\Projects\\GIS5571_Lab2\\GIS5571_Lab2.gdb\", \"Prism_Raster_Mosaic\", 'GEOGCS[\"GCS_North_American_1983\",DATUM[\"D_North_American_1983\",SPHEROID[\"GRS_1980\",6378137.0,298.257222101]],PRIMEM[\"Greenwich\",0.0],UNIT[\"Degree\",0.0174532925199433]]', None, '', \"NONE\", None)"
   ]
  },
  {
   "cell_type": "code",
   "execution_count": null,
   "metadata": {},
   "outputs": [],
   "source": [
    "#Adding the rasters\n",
    "arcpy.management.AddRastersToMosaicDataset(\"Prism_Raster_Mosaic\", \"Raster Dataset\", r\"'C:\\Users\\tande\\Documents\\GIS5571\\GIS5571 Lab 2\\PRISM\\PRISM_ppt_30yr_normal_4kmM3_01_bil.bil';'C:\\Users\\tande\\Documents\\GIS5571\\GIS5571 Lab 2\\PRISM\\PRISM_ppt_30yr_normal_4kmM3_02_bil.bil';'C:\\Users\\tande\\Documents\\GIS5571\\GIS5571 Lab 2\\PRISM\\PRISM_ppt_30yr_normal_4kmM3_03_bil.bil';'C:\\Users\\tande\\Documents\\GIS5571\\GIS5571 Lab 2\\PRISM\\PRISM_ppt_30yr_normal_4kmM3_04_bil.bil';'C:\\Users\\tande\\Documents\\GIS5571\\GIS5571 Lab 2\\PRISM\\PRISM_ppt_30yr_normal_4kmM3_05_bil.bil';'C:\\Users\\tande\\Documents\\GIS5571\\GIS5571 Lab 2\\PRISM\\PRISM_ppt_30yr_normal_4kmM3_06_bil.bil';'C:\\Users\\tande\\Documents\\GIS5571\\GIS5571 Lab 2\\PRISM\\PRISM_ppt_30yr_normal_4kmM3_07_bil.bil';'C:\\Users\\tande\\Documents\\GIS5571\\GIS5571 Lab 2\\PRISM\\PRISM_ppt_30yr_normal_4kmM3_08_bil.bil';'C:\\Users\\tande\\Documents\\GIS5571\\GIS5571 Lab 2\\PRISM\\PRISM_ppt_30yr_normal_4kmM3_09_bil.bil';'C:\\Users\\tande\\Documents\\GIS5571\\GIS5571 Lab 2\\PRISM\\PRISM_ppt_30yr_normal_4kmM3_10_bil.bil';'C:\\Users\\tande\\Documents\\GIS5571\\GIS5571 Lab 2\\PRISM\\PRISM_ppt_30yr_normal_4kmM3_11_bil.bil';'C:\\Users\\tande\\Documents\\GIS5571\\GIS5571 Lab 2\\PRISM\\PRISM_ppt_30yr_normal_4kmM3_12_bil.bil'\", \"UPDATE_CELL_SIZES\", \"UPDATE_BOUNDARY\", \"NO_OVERVIEWS\", None, 0, 1500, None, '', \"SUBFOLDERS\", \"ALLOW_DUPLICATES\", \"NO_PYRAMIDS\", \"NO_STATISTICS\", \"NO_THUMBNAILS\", '', \"NO_FORCE_SPATIAL_REFERENCE\", \"NO_STATISTICS\", None, \"NO_PIXEL_CACHE\", r\"C:\\Users\\tande\\AppData\\Local\\ESRI\\rasterproxies\\Prism_Raster_Mosaic\")"
   ]
  },
  {
   "cell_type": "code",
   "execution_count": null,
   "metadata": {},
   "outputs": [],
   "source": [
    "#Add time to the raster dataset\n",
    "\n",
    "arcpy.management.CalculateField(r\"Prism_Raster_Mosaic\\Footprint\", \"Variable\", '\"PRISM\"', \"PYTHON3\", '', \"TEXT\", \"NO_ENFORCE_DOMAINS\")\n",
    "arcpy.management.CalculateField(r\"Prism_Raster_Mosaic\\Footprint\", \"Timestamp\", \"DateAdd(Date(2020,0,1), $feature.OBJECTID-1, 'year')\", \"ARCADE\", '', \"DATE\", \"NO_ENFORCE_DOMAINS\")\n",
    "#Ref https://www.esri.com/arcgis-blog/products/arcgis-pro/analytics/explore-your-raster-data-with-space-time-pattern-mining/"
   ]
  },
  {
   "cell_type": "code",
   "execution_count": null,
   "metadata": {},
   "outputs": [],
   "source": [
    "#Build a multidimentional raster layer\n",
    "\n",
    "arcpy.md.BuildMultidimensionalInfo(\"Prism_Raster_Mosaic\", \"Variable\", \"Timestamp # #\", None, \"NO_DELETE_MULTIDIMENSIONAL_INFO\")\n",
    "arcpy.md.MakeMultidimensionalRasterLayer(\"Prism_Raster_Mosaic\", \"Prism_Raster_Mosaic_MultidimLayer\", \"PRISM\", \"ALL\", None, None, '', '', '', None, '', '-125.020833333333 24.0624999997935 -66.4791666661985 49.9375000000005 GEOGCS[\"GCS_North_American_1983\",DATUM[\"D_North_American_1983\",SPHEROID[\"GRS_1980\",6378137.0,298.257222101]],PRIMEM[\"Greenwich\",0.0],UNIT[\"Degree\",0.0174532925199433]]', \"DIMENSIONS\", None)"
   ]
  },
  {
   "cell_type": "code",
   "execution_count": 1,
   "metadata": {},
   "outputs": [
    {
     "ename": "ExecuteError",
     "evalue": "Failed to execute. Parameters are not valid.\nERROR 000732: Input Multidimensional Raster Layer: Dataset Prism_Raster_Mosaic_MultidimLayer does not exist or is not supported\nWARNING 000725: Output Space Time Cube: Dataset C:\\Users\\tande\\Documents\\GIS5571\\GIS5571 Lab 2\\PRISM\\Prism_STC.nc already exists.\nFailed to execute (CreateSpaceTimeCubeMDRasterLayer).\n",
     "output_type": "error",
     "traceback": [
      "\u001b[0;31m---------------------------------------------------------------------------\u001b[0m\n\u001b[0;31mExecuteError\u001b[0m                              Traceback (most recent call last)",
      "In  \u001b[0;34m[1]\u001b[0m:\nLine \u001b[0;34m3\u001b[0m:     arcpy.stpm.CreateSpaceTimeCubeMDRasterLayer(\u001b[33m\"\u001b[39;49;00m\u001b[33mPrism_Raster_Mosaic_MultidimLayer\u001b[39;49;00m\u001b[33m\"\u001b[39;49;00m, \u001b[33mr\u001b[39;49;00m\u001b[33m\"\u001b[39;49;00m\u001b[33mC:\u001b[39;49;00m\u001b[33m\\\u001b[39;49;00m\u001b[33mUsers\u001b[39;49;00m\u001b[33m\\\u001b[39;49;00m\u001b[33mtande\u001b[39;49;00m\u001b[33m\\\u001b[39;49;00m\u001b[33mDocuments\u001b[39;49;00m\u001b[33m\\\u001b[39;49;00m\u001b[33mGIS5571\u001b[39;49;00m\u001b[33m\\\u001b[39;49;00m\u001b[33mGIS5571 Lab 2\u001b[39;49;00m\u001b[33m\\\u001b[39;49;00m\u001b[33mPRISM\u001b[39;49;00m\u001b[33m\\\u001b[39;49;00m\u001b[33mPrism_STC.nc\u001b[39;49;00m\u001b[33m\"\u001b[39;49;00m, \u001b[33m\"\u001b[39;49;00m\u001b[33mZEROS\u001b[39;49;00m\u001b[33m\"\u001b[39;49;00m)\n",
      "File \u001b[0;34mC:\\Program Files\\ArcGIS\\Pro\\Resources\\ArcPy\\arcpy\\stpm.py\u001b[0m, in \u001b[0;32mCreateSpaceTimeCubeMDRasterLayer\u001b[0m:\nLine \u001b[0;34m369\u001b[0m:   \u001b[34mraise\u001b[39;49;00m e\n",
      "File \u001b[0;34mC:\\Program Files\\ArcGIS\\Pro\\Resources\\ArcPy\\arcpy\\stpm.py\u001b[0m, in \u001b[0;32mCreateSpaceTimeCubeMDRasterLayer\u001b[0m:\nLine \u001b[0;34m366\u001b[0m:   retval = convertArcObjectToPythonObject(gp.CreateSpaceTimeCubeMDRasterLayer_stpm(*gp_fixargs((in_md_raster, output_cube, fill_empty_bins), \u001b[34mTrue\u001b[39;49;00m)))\n",
      "File \u001b[0;34mC:\\Program Files\\ArcGIS\\Pro\\Resources\\ArcPy\\arcpy\\geoprocessing\\_base.py\u001b[0m, in \u001b[0;32m<lambda>\u001b[0m:\nLine \u001b[0;34m512\u001b[0m:   \u001b[34mreturn\u001b[39;49;00m \u001b[34mlambda\u001b[39;49;00m *args: val(*gp_fixargs(args, \u001b[34mTrue\u001b[39;49;00m))\n",
      "\u001b[0;31mExecuteError\u001b[0m: Failed to execute. Parameters are not valid.\nERROR 000732: Input Multidimensional Raster Layer: Dataset Prism_Raster_Mosaic_MultidimLayer does not exist or is not supported\nWARNING 000725: Output Space Time Cube: Dataset C:\\Users\\tande\\Documents\\GIS5571\\GIS5571 Lab 2\\PRISM\\Prism_STC.nc already exists.\nFailed to execute (CreateSpaceTimeCubeMDRasterLayer).\n\n\u001b[0;31m---------------------------------------------------------------------------\u001b[0m"
     ]
    }
   ],
   "source": [
    "#Creating the Space Time Cube\n",
    "\n",
    "arcpy.stpm.CreateSpaceTimeCubeMDRasterLayer(\"Prism_Raster_Mosaic_MultidimLayer\", r\"C:\\Users\\tande\\Documents\\GIS5571\\GIS5571 Lab 2\\PRISM\\Prism_STC.nc\", \"ZEROS\")"
   ]
  },
  {
   "cell_type": "markdown",
   "metadata": {},
   "source": [
    "## Export Animated STC"
   ]
  },
  {
   "cell_type": "code",
   "execution_count": 2,
   "metadata": {},
   "outputs": [],
   "source": [
    "# Ref https://pro.arcgis.com/en/pro-app/latest/help/sharing/overview/gif-export.htm\n",
    "\n",
    "# I was able to manually export the animated STC using the 'Export Movie' icon \n",
    "#but unfortunately was not able to do this via arcpy. \n",
    "\n",
    "#The saved GIF file can be found on GitHub"
   ]
  }
 ],
 "metadata": {
  "kernelspec": {
   "display_name": "ArcGISPro",
   "language": "Python",
   "name": "python3"
  },
  "language_info": {
   "file_extension": ".py",
   "name": "python",
   "version": "3"
  }
 },
 "nbformat": 4,
 "nbformat_minor": 2
}
