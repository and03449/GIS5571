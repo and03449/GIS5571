{
 "cells": [
  {
   "cell_type": "markdown",
   "metadata": {},
   "source": [
    "## Welcome to your notebook.\n"
   ]
  },
  {
   "cell_type": "markdown",
   "metadata": {},
   "source": [
    "#### Run this cell to connect to your GIS and get started:"
   ]
  },
  {
   "cell_type": "code",
   "execution_count": 1,
   "metadata": {
    "scrolled": true
   },
   "outputs": [
    {
     "name": "stderr",
     "output_type": "stream",
     "text": [
      "/opt/conda/lib/python3.9/site-packages/arcgis/gis/__init__.py:597: UserWarning: You are logged on as and03449_UMN with an administrator role, proceed with caution.\n",
      "  warnings.warn(\n"
     ]
    }
   ],
   "source": [
    "from arcgis.gis import GIS\n",
    "gis = GIS(\"home\")"
   ]
  },
  {
   "cell_type": "markdown",
   "metadata": {},
   "source": [
    "#### Now you are ready to start!"
   ]
  },
  {
   "cell_type": "code",
   "execution_count": 9,
   "metadata": {
    "scrolled": false
   },
   "outputs": [
    {
     "data": {
      "text/html": [
       "<div class=\"item_container\" style=\"height: auto; overflow: hidden; border: 1px solid #cfcfcf; border-radius: 2px; background: #f6fafa; line-height: 1.21429em; padding: 10px;\">\n",
       "                    <div class=\"item_left\" style=\"width: 210px; float: left;\">\n",
       "                       <a href='https://www.arcgis.com/home/item.html?id=fa416837113c4feea60c556ffea14927' target='_blank'>\n",
       "                        <img src='data:image/png;base64,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' width='200' height='133' class=\"itemThumbnail\">\n",
       "                       </a>\n",
       "                    </div>\n",
       "\n",
       "                    <div class=\"item_right\"     style=\"float: none; width: auto; overflow: hidden;\">\n",
       "                        <a href='https://www.arcgis.com/home/item.html?id=fa416837113c4feea60c556ffea14927' target='_blank'><b>shp_trans_federal_routes</b>\n",
       "                        </a>\n",
       "                        <br/><img src='https://www.arcgis.com/home/js/jsapi/esri/css/images/item_type_icons/featureshosted16.png' style=\"vertical-align:middle;\">Feature Layer Collection by and03449_UMN\n",
       "                        <br/>Last Modified: September 22, 2022\n",
       "                        <br/>0 comments, 1 views\n",
       "                    </div>\n",
       "                </div>\n",
       "                "
      ],
      "text/plain": [
       "<Item title:\"shp_trans_federal_routes\" type:Feature Layer Collection owner:and03449_UMN>"
      ]
     },
     "execution_count": 9,
     "metadata": {},
     "output_type": "execute_result"
    }
   ],
   "source": [
    "# Item Added From Toolbar\n",
    "# Title: shp_trans_federal_routes | Type: Shapefile | Owner: and03449_UMN\n",
    "item = gis.content.get(\"fa416837113c4feea60c556ffea14927\")\n",
    "item"
   ]
  },
  {
   "cell_type": "code",
   "execution_count": 11,
   "metadata": {},
   "outputs": [
    {
     "data": {
      "text/html": [
       "<div class=\"item_container\" style=\"height: auto; overflow: hidden; border: 1px solid #cfcfcf; border-radius: 2px; background: #f6fafa; line-height: 1.21429em; padding: 10px;\">\n",
       "                    <div class=\"item_left\" style=\"width: 210px; float: left;\">\n",
       "                       <a href='https://www.arcgis.com/home/item.html?id=e16734a48d114cdebd6c531924e4ba8d' target='_blank'>\n",
       "                        <img src='http://static.arcgis.com/images/desktopapp.png' class=\"itemThumbnail\">\n",
       "                       </a>\n",
       "                    </div>\n",
       "\n",
       "                    <div class=\"item_right\"     style=\"float: none; width: auto; overflow: hidden;\">\n",
       "                        <a href='https://www.arcgis.com/home/item.html?id=e16734a48d114cdebd6c531924e4ba8d' target='_blank'><b>create_buffers3</b>\n",
       "                        </a>\n",
       "                        <br/><img src='https://www.arcgis.com/home/js/jsapi/esri/css/images/item_type_icons/featureshosted16.png' style=\"vertical-align:middle;\">Feature Layer Collection by and03449_UMN\n",
       "                        <br/>Last Modified: September 22, 2022\n",
       "                        <br/>0 comments, 0 views\n",
       "                    </div>\n",
       "                </div>\n",
       "                "
      ],
      "text/plain": [
       "<Item title:\"create_buffers3\" type:Feature Layer Collection owner:and03449_UMN>"
      ]
     },
     "execution_count": 11,
     "metadata": {},
     "output_type": "execute_result"
    }
   ],
   "source": [
    "from arcgis import features\n",
    "features.use_proximity.create_buffers(input_layer=item, distances=[10], units='Meters', output_name='create_buffers3')"
   ]
  }
 ],
 "metadata": {
  "esriNotebookRuntime": {
   "notebookRuntimeName": "ArcGIS Notebook Python 3 Standard",
   "notebookRuntimeVersion": "7.0"
  },
  "kernelspec": {
   "display_name": "Python 3 (ipykernel)",
   "language": "python",
   "name": "python3"
  },
  "language_info": {
   "codemirror_mode": {
    "name": "ipython",
    "version": 3
   },
   "file_extension": ".py",
   "mimetype": "text/x-python",
   "name": "python",
   "nbconvert_exporter": "python",
   "pygments_lexer": "ipython3",
   "version": "3.9.11"
  }
 },
 "nbformat": 4,
 "nbformat_minor": 2
}
