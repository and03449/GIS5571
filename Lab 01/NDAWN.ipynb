{
 "cells": [
  {
   "cell_type": "markdown",
   "metadata": {},
   "source": [
    "# Lab 01 - NDAWN"
   ]
  },
  {
   "cell_type": "markdown",
   "metadata": {},
   "source": [
    "## Importing Packages"
   ]
  },
  {
   "cell_type": "code",
   "execution_count": 73,
   "metadata": {},
   "outputs": [],
   "source": [
    "import requests\n",
    "import io\n",
    "import zipfile\n",
    "import pandas as pd\n",
    "import os"
   ]
  },
  {
   "cell_type": "code",
   "execution_count": 150,
   "metadata": {},
   "outputs": [],
   "source": [
    "ndawn_home = \"https://ndawn.ndsu.nodak.edu/table.csv\""
   ]
  },
  {
   "cell_type": "code",
   "execution_count": 165,
   "metadata": {},
   "outputs": [],
   "source": [
    "all_params = {\n",
    "    'station' : '78',\n",
    "    'variable' : 'ddmxt',\n",
    "    'year' : '2022',\n",
    "    'ttype' : 'daily',\n",
    "    'quick_pick' : '30_d',\n",
    "    'begin_date': '2022-09-01'\n",
    "}"
   ]
  },
  {
   "cell_type": "code",
   "execution_count": 166,
   "metadata": {},
   "outputs": [],
   "source": [
    "rqst_objct = requests.get(ndawn_home, params=all_params)\n",
    "\n",
    "with open('MaxTemp.csv', 'w') as newCSV_txt:\n",
    "    newCSV_txt.write(rqst_objct.content.decode('utf-8'))"
   ]
  },
  {
   "cell_type": "code",
   "execution_count": 167,
   "metadata": {},
   "outputs": [
    {
     "data": {
      "text/html": [
       "<div>\n",
       "<style scoped>\n",
       "    .dataframe tbody tr th:only-of-type {\n",
       "        vertical-align: middle;\n",
       "    }\n",
       "\n",
       "    .dataframe tbody tr th {\n",
       "        vertical-align: top;\n",
       "    }\n",
       "\n",
       "    .dataframe thead th {\n",
       "        text-align: right;\n",
       "    }\n",
       "</style>\n",
       "<table border=\"1\" class=\"dataframe\">\n",
       "  <thead>\n",
       "    <tr style=\"text-align: right;\">\n",
       "      <th></th>\n",
       "      <th></th>\n",
       "      <th></th>\n",
       "      <th></th>\n",
       "      <th></th>\n",
       "      <th></th>\n",
       "      <th></th>\n",
       "      <th></th>\n",
       "      <th>Flag Definition Line: M - Missing; E - Estimated; N/A - Not Available</th>\n",
       "    </tr>\n",
       "  </thead>\n",
       "  <tbody>\n",
       "    <tr>\n",
       "      <th>Station Name</th>\n",
       "      <th>Latitude</th>\n",
       "      <th>Longitude</th>\n",
       "      <th>Elevation</th>\n",
       "      <th>Year</th>\n",
       "      <th>Month</th>\n",
       "      <th>Day</th>\n",
       "      <th>Max Temp</th>\n",
       "      <td>Max Temp Flag</td>\n",
       "    </tr>\n",
       "    <tr>\n",
       "      <th>NaN</th>\n",
       "      <th>deg</th>\n",
       "      <th>deg</th>\n",
       "      <th>ft</th>\n",
       "      <th>NaN</th>\n",
       "      <th>NaN</th>\n",
       "      <th>NaN</th>\n",
       "      <th>Degrees F</th>\n",
       "      <td>NaN</td>\n",
       "    </tr>\n",
       "    <tr>\n",
       "      <th rowspan=\"3\" valign=\"top\">Ada</th>\n",
       "      <th rowspan=\"3\" valign=\"top\">47.32119</th>\n",
       "      <th rowspan=\"3\" valign=\"top\">-96.51406</th>\n",
       "      <th rowspan=\"3\" valign=\"top\">910</th>\n",
       "      <th rowspan=\"3\" valign=\"top\">2022</th>\n",
       "      <th rowspan=\"3\" valign=\"top\">09</th>\n",
       "      <th>07</th>\n",
       "      <th>81.284</th>\n",
       "      <td>NaN</td>\n",
       "    </tr>\n",
       "    <tr>\n",
       "      <th>08</th>\n",
       "      <th>82.922</th>\n",
       "      <td>NaN</td>\n",
       "    </tr>\n",
       "    <tr>\n",
       "      <th>09</th>\n",
       "      <th>70.052</th>\n",
       "      <td>NaN</td>\n",
       "    </tr>\n",
       "  </tbody>\n",
       "</table>\n",
       "</div>"
      ],
      "text/plain": [
       "                                                                   Flag Definition Line: M - Missing; E - Estimated; N/A - Not Available\n",
       "Station Name Latitude Longitude Elevation Year Month Day Max Temp                                       Max Temp Flag                   \n",
       "NaN          deg      deg       ft        NaN  NaN   NaN Degrees F                                                NaN                   \n",
       "Ada          47.32119 -96.51406 910       2022 09    07  81.284                                                   NaN                   \n",
       "                                                     08  82.922                                                   NaN                   \n",
       "                                                     09  70.052                                                   NaN                   "
      ]
     },
     "execution_count": 167,
     "metadata": {},
     "output_type": "execute_result"
    }
   ],
   "source": [
    "max_temp = pd.read_csv('MaxTemp.csv', skiprows = 3)\n",
    "max_temp.head()"
   ]
  }
 ],
 "metadata": {
  "kernelspec": {
   "display_name": "ArcGISPro",
   "language": "Python",
   "name": "python3"
  },
  "language_info": {
   "file_extension": ".py",
   "name": "python",
   "version": "3"
  }
 },
 "nbformat": 4,
 "nbformat_minor": 2
}
